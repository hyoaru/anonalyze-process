{
 "cells": [
  {
   "cell_type": "markdown",
   "metadata": {},
   "source": [
    "# Sentiment and Emotion Classification Model Training\n",
    "Using dataset from kaggle consisting of `416,809 observations` of labeled text content from twitter\n",
    "<br>\n",
    "Kaggle dataset url: [https://www.kaggle.com/datasets/nelgiriyewithana/emotions](https://www.kaggle.com/datasets/nelgiriyewithana/emotions)\n",
    "\n",
    "**About the dataset**\n",
    "<br>\n",
    "Each entry in this dataset consists of a text segment representing a Twitter message and a corresponding label indicating the predominant emotion conveyed. The emotions are classified into six categories: sadness (0), joy (1), love (2), anger (3), fear (4), and surprise (5). This dataset provides a rich foundation for exploring the nuanced emotional landscape within the realm of social media.\n",
    "\n",
    "**Dataset features**\n",
    "* text: twitter text content\n",
    "* label: emotion classification\n",
    "  * sadness (0), \n",
    "  * joy (1), \n",
    "  * love (2), \n",
    "  * anger (3), \n",
    "  * fear (4), \n",
    "  * and surprise (5). "
   ]
  },
  {
   "cell_type": "markdown",
   "metadata": {},
   "source": [
    "## Initialization"
   ]
  },
  {
   "cell_type": "code",
   "execution_count": 48,
   "metadata": {},
   "outputs": [],
   "source": [
    "import pickle\n",
    "import numpy as np\n",
    "import pandas as pd\n",
    "import seaborn as sns\n",
    "from matplotlib import pyplot as plt\n",
    "import nltk\n",
    "import re\n",
    "import os\n",
    "\n",
    "from nltk import pos_tag\n",
    "from nltk.corpus import stopwords, wordnet\n",
    "from nltk.stem import WordNetLemmatizer\n",
    "from nltk.tokenize import WordPunctTokenizer\n",
    "\n",
    "from sklearn.model_selection import train_test_split\n",
    "from sklearn.feature_extraction.text import TfidfVectorizer\n",
    "from sklearn.metrics import confusion_matrix, classification_report\n",
    "from sklearn.naive_bayes import MultinomialNB\n",
    "from sklearn.pipeline import Pipeline\n",
    "from sklearn.model_selection import GridSearchCV\n",
    "from sklearn.feature_selection import SelectKBest, chi2"
   ]
  },
  {
   "cell_type": "code",
   "execution_count": 2,
   "metadata": {},
   "outputs": [],
   "source": [
    "color_a1 = '#664c85'\n",
    "color_a2 = '#5b92b6'\n",
    "color_a3 = '#52d5bd'\n",
    "color_a4 = '#eeeeee'\n",
    "palette_a1 = 'mako'\n",
    "palette_a2 = 'mako_r'"
   ]
  },
  {
   "cell_type": "code",
   "execution_count": 3,
   "metadata": {},
   "outputs": [
    {
     "name": "stderr",
     "output_type": "stream",
     "text": [
      "[nltk_data] Downloading package stopwords to\n",
      "[nltk_data]     /home/cabrera/nltk_data...\n",
      "[nltk_data]   Package stopwords is already up-to-date!\n",
      "[nltk_data] Downloading package wordnet to /home/cabrera/nltk_data...\n",
      "[nltk_data]   Package wordnet is already up-to-date!\n",
      "[nltk_data] Downloading package punkt to /home/cabrera/nltk_data...\n",
      "[nltk_data]   Package punkt is already up-to-date!\n",
      "[nltk_data] Downloading package punkt_tab to\n",
      "[nltk_data]     /home/cabrera/nltk_data...\n",
      "[nltk_data]   Package punkt_tab is already up-to-date!\n",
      "[nltk_data] Downloading package omw-1.4 to /home/cabrera/nltk_data...\n",
      "[nltk_data]   Package omw-1.4 is already up-to-date!\n",
      "[nltk_data] Downloading package averaged_perceptron_tagger to\n",
      "[nltk_data]     /home/cabrera/nltk_data...\n",
      "[nltk_data]   Package averaged_perceptron_tagger is already up-to-\n",
      "[nltk_data]       date!\n",
      "[nltk_data] Downloading package averaged_perceptron_tagger_eng to\n",
      "[nltk_data]     /home/cabrera/nltk_data...\n",
      "[nltk_data]   Package averaged_perceptron_tagger_eng is already up-to-\n",
      "[nltk_data]       date!\n"
     ]
    }
   ],
   "source": [
    "%%capture\n",
    "nltk.download('stopwords')\n",
    "nltk.download('wordnet')\n",
    "nltk.download('punkt')\n",
    "nltk.download('punkt_tab')\n",
    "nltk.download('omw-1.4')\n",
    "nltk.download('averaged_perceptron_tagger')\n",
    "nltk.download('averaged_perceptron_tagger_eng')"
   ]
  },
  {
   "cell_type": "markdown",
   "metadata": {},
   "source": [
    "Loading the data"
   ]
  },
  {
   "cell_type": "code",
   "execution_count": 4,
   "metadata": {},
   "outputs": [
    {
     "data": {
      "text/html": [
       "<div>\n",
       "<style scoped>\n",
       "    .dataframe tbody tr th:only-of-type {\n",
       "        vertical-align: middle;\n",
       "    }\n",
       "\n",
       "    .dataframe tbody tr th {\n",
       "        vertical-align: top;\n",
       "    }\n",
       "\n",
       "    .dataframe thead th {\n",
       "        text-align: right;\n",
       "    }\n",
       "</style>\n",
       "<table border=\"1\" class=\"dataframe\">\n",
       "  <thead>\n",
       "    <tr style=\"text-align: right;\">\n",
       "      <th></th>\n",
       "      <th>text</th>\n",
       "      <th>label</th>\n",
       "    </tr>\n",
       "  </thead>\n",
       "  <tbody>\n",
       "    <tr>\n",
       "      <th>0</th>\n",
       "      <td>i just feel really helpless and heavy hearted</td>\n",
       "      <td>4</td>\n",
       "    </tr>\n",
       "    <tr>\n",
       "      <th>1</th>\n",
       "      <td>ive enjoyed being able to slouch about relax a...</td>\n",
       "      <td>0</td>\n",
       "    </tr>\n",
       "    <tr>\n",
       "      <th>2</th>\n",
       "      <td>i gave up my internship with the dmrg and am f...</td>\n",
       "      <td>4</td>\n",
       "    </tr>\n",
       "    <tr>\n",
       "      <th>3</th>\n",
       "      <td>i dont know i feel so lost</td>\n",
       "      <td>0</td>\n",
       "    </tr>\n",
       "    <tr>\n",
       "      <th>4</th>\n",
       "      <td>i am a kindergarten teacher and i am thoroughl...</td>\n",
       "      <td>4</td>\n",
       "    </tr>\n",
       "  </tbody>\n",
       "</table>\n",
       "</div>"
      ],
      "text/plain": [
       "                                                text  label\n",
       "0      i just feel really helpless and heavy hearted      4\n",
       "1  ive enjoyed being able to slouch about relax a...      0\n",
       "2  i gave up my internship with the dmrg and am f...      4\n",
       "3                         i dont know i feel so lost      0\n",
       "4  i am a kindergarten teacher and i am thoroughl...      4"
      ]
     },
     "execution_count": 4,
     "metadata": {},
     "output_type": "execute_result"
    }
   ],
   "source": [
    "df = pd.read_csv('data/dataset.csv', index_col=0)\n",
    "\n",
    "df.head()"
   ]
  },
  {
   "cell_type": "markdown",
   "metadata": {},
   "source": [
    "Getting the label distribution"
   ]
  },
  {
   "cell_type": "code",
   "execution_count": 5,
   "metadata": {},
   "outputs": [
    {
     "data": {
      "text/plain": [
       "label\n",
       "0    121187\n",
       "1    141067\n",
       "2     34554\n",
       "3     57317\n",
       "4     47712\n",
       "5     14972\n",
       "Name: count, dtype: int64"
      ]
     },
     "execution_count": 5,
     "metadata": {},
     "output_type": "execute_result"
    }
   ],
   "source": [
    "df['label'].value_counts().sort_index()"
   ]
  },
  {
   "cell_type": "markdown",
   "metadata": {},
   "source": [
    "Renaming the attribute name from label -> emotion_label"
   ]
  },
  {
   "cell_type": "code",
   "execution_count": 6,
   "metadata": {},
   "outputs": [
    {
     "data": {
      "text/html": [
       "<div>\n",
       "<style scoped>\n",
       "    .dataframe tbody tr th:only-of-type {\n",
       "        vertical-align: middle;\n",
       "    }\n",
       "\n",
       "    .dataframe tbody tr th {\n",
       "        vertical-align: top;\n",
       "    }\n",
       "\n",
       "    .dataframe thead th {\n",
       "        text-align: right;\n",
       "    }\n",
       "</style>\n",
       "<table border=\"1\" class=\"dataframe\">\n",
       "  <thead>\n",
       "    <tr style=\"text-align: right;\">\n",
       "      <th></th>\n",
       "      <th>text</th>\n",
       "      <th>emotion_label</th>\n",
       "    </tr>\n",
       "  </thead>\n",
       "  <tbody>\n",
       "    <tr>\n",
       "      <th>0</th>\n",
       "      <td>i just feel really helpless and heavy hearted</td>\n",
       "      <td>4</td>\n",
       "    </tr>\n",
       "    <tr>\n",
       "      <th>1</th>\n",
       "      <td>ive enjoyed being able to slouch about relax a...</td>\n",
       "      <td>0</td>\n",
       "    </tr>\n",
       "    <tr>\n",
       "      <th>2</th>\n",
       "      <td>i gave up my internship with the dmrg and am f...</td>\n",
       "      <td>4</td>\n",
       "    </tr>\n",
       "    <tr>\n",
       "      <th>3</th>\n",
       "      <td>i dont know i feel so lost</td>\n",
       "      <td>0</td>\n",
       "    </tr>\n",
       "    <tr>\n",
       "      <th>4</th>\n",
       "      <td>i am a kindergarten teacher and i am thoroughl...</td>\n",
       "      <td>4</td>\n",
       "    </tr>\n",
       "  </tbody>\n",
       "</table>\n",
       "</div>"
      ],
      "text/plain": [
       "                                                text  emotion_label\n",
       "0      i just feel really helpless and heavy hearted              4\n",
       "1  ive enjoyed being able to slouch about relax a...              0\n",
       "2  i gave up my internship with the dmrg and am f...              4\n",
       "3                         i dont know i feel so lost              0\n",
       "4  i am a kindergarten teacher and i am thoroughl...              4"
      ]
     },
     "execution_count": 6,
     "metadata": {},
     "output_type": "execute_result"
    }
   ],
   "source": [
    "df.rename(columns={\n",
    "  'label': 'emotion_label'\n",
    "}, inplace=True)\n",
    "\n",
    "df.head()"
   ]
  },
  {
   "cell_type": "markdown",
   "metadata": {},
   "source": [
    "Adding emotion_label_description attribute"
   ]
  },
  {
   "cell_type": "code",
   "execution_count": 7,
   "metadata": {},
   "outputs": [],
   "source": [
    "emotion_label_description_map = {\n",
    "  0: 'sadness',\n",
    "  1: 'joy',\n",
    "  2: 'love',\n",
    "  3: 'anger',\n",
    "  4: 'fear',\n",
    "  5: 'surprised',\n",
    "}"
   ]
  },
  {
   "cell_type": "code",
   "execution_count": 8,
   "metadata": {},
   "outputs": [
    {
     "data": {
      "text/html": [
       "<div>\n",
       "<style scoped>\n",
       "    .dataframe tbody tr th:only-of-type {\n",
       "        vertical-align: middle;\n",
       "    }\n",
       "\n",
       "    .dataframe tbody tr th {\n",
       "        vertical-align: top;\n",
       "    }\n",
       "\n",
       "    .dataframe thead th {\n",
       "        text-align: right;\n",
       "    }\n",
       "</style>\n",
       "<table border=\"1\" class=\"dataframe\">\n",
       "  <thead>\n",
       "    <tr style=\"text-align: right;\">\n",
       "      <th></th>\n",
       "      <th>text</th>\n",
       "      <th>emotion_label</th>\n",
       "      <th>emotion_label_description</th>\n",
       "    </tr>\n",
       "  </thead>\n",
       "  <tbody>\n",
       "    <tr>\n",
       "      <th>0</th>\n",
       "      <td>i just feel really helpless and heavy hearted</td>\n",
       "      <td>4</td>\n",
       "      <td>fear</td>\n",
       "    </tr>\n",
       "    <tr>\n",
       "      <th>1</th>\n",
       "      <td>ive enjoyed being able to slouch about relax a...</td>\n",
       "      <td>0</td>\n",
       "      <td>sadness</td>\n",
       "    </tr>\n",
       "    <tr>\n",
       "      <th>2</th>\n",
       "      <td>i gave up my internship with the dmrg and am f...</td>\n",
       "      <td>4</td>\n",
       "      <td>fear</td>\n",
       "    </tr>\n",
       "    <tr>\n",
       "      <th>3</th>\n",
       "      <td>i dont know i feel so lost</td>\n",
       "      <td>0</td>\n",
       "      <td>sadness</td>\n",
       "    </tr>\n",
       "    <tr>\n",
       "      <th>4</th>\n",
       "      <td>i am a kindergarten teacher and i am thoroughl...</td>\n",
       "      <td>4</td>\n",
       "      <td>fear</td>\n",
       "    </tr>\n",
       "  </tbody>\n",
       "</table>\n",
       "</div>"
      ],
      "text/plain": [
       "                                                text  emotion_label  \\\n",
       "0      i just feel really helpless and heavy hearted              4   \n",
       "1  ive enjoyed being able to slouch about relax a...              0   \n",
       "2  i gave up my internship with the dmrg and am f...              4   \n",
       "3                         i dont know i feel so lost              0   \n",
       "4  i am a kindergarten teacher and i am thoroughl...              4   \n",
       "\n",
       "  emotion_label_description  \n",
       "0                      fear  \n",
       "1                   sadness  \n",
       "2                      fear  \n",
       "3                   sadness  \n",
       "4                      fear  "
      ]
     },
     "execution_count": 8,
     "metadata": {},
     "output_type": "execute_result"
    }
   ],
   "source": [
    "df['emotion_label_description'] = df['emotion_label'].apply(lambda label: emotion_label_description_map.get(label))\n",
    "\n",
    "df.head()"
   ]
  },
  {
   "cell_type": "markdown",
   "metadata": {},
   "source": [
    "Adding another attribute called `sentiment_label` and mapping it according to emotion label with the following condition when equating to:\n",
    "* [0] negative: [sadness (0), anger (3), fear (4)]\n",
    "* [1] positive: [joy (1), love (2)]\n",
    "* [2] neutral: [surprised (5)]"
   ]
  },
  {
   "cell_type": "code",
   "execution_count": 9,
   "metadata": {},
   "outputs": [
    {
     "data": {
      "text/html": [
       "<div>\n",
       "<style scoped>\n",
       "    .dataframe tbody tr th:only-of-type {\n",
       "        vertical-align: middle;\n",
       "    }\n",
       "\n",
       "    .dataframe tbody tr th {\n",
       "        vertical-align: top;\n",
       "    }\n",
       "\n",
       "    .dataframe thead th {\n",
       "        text-align: right;\n",
       "    }\n",
       "</style>\n",
       "<table border=\"1\" class=\"dataframe\">\n",
       "  <thead>\n",
       "    <tr style=\"text-align: right;\">\n",
       "      <th></th>\n",
       "      <th>text</th>\n",
       "      <th>emotion_label</th>\n",
       "      <th>emotion_label_description</th>\n",
       "      <th>sentiment_label</th>\n",
       "    </tr>\n",
       "  </thead>\n",
       "  <tbody>\n",
       "    <tr>\n",
       "      <th>0</th>\n",
       "      <td>i just feel really helpless and heavy hearted</td>\n",
       "      <td>4</td>\n",
       "      <td>fear</td>\n",
       "      <td>0</td>\n",
       "    </tr>\n",
       "    <tr>\n",
       "      <th>1</th>\n",
       "      <td>ive enjoyed being able to slouch about relax a...</td>\n",
       "      <td>0</td>\n",
       "      <td>sadness</td>\n",
       "      <td>0</td>\n",
       "    </tr>\n",
       "    <tr>\n",
       "      <th>2</th>\n",
       "      <td>i gave up my internship with the dmrg and am f...</td>\n",
       "      <td>4</td>\n",
       "      <td>fear</td>\n",
       "      <td>0</td>\n",
       "    </tr>\n",
       "    <tr>\n",
       "      <th>3</th>\n",
       "      <td>i dont know i feel so lost</td>\n",
       "      <td>0</td>\n",
       "      <td>sadness</td>\n",
       "      <td>0</td>\n",
       "    </tr>\n",
       "    <tr>\n",
       "      <th>4</th>\n",
       "      <td>i am a kindergarten teacher and i am thoroughl...</td>\n",
       "      <td>4</td>\n",
       "      <td>fear</td>\n",
       "      <td>0</td>\n",
       "    </tr>\n",
       "  </tbody>\n",
       "</table>\n",
       "</div>"
      ],
      "text/plain": [
       "                                                text  emotion_label  \\\n",
       "0      i just feel really helpless and heavy hearted              4   \n",
       "1  ive enjoyed being able to slouch about relax a...              0   \n",
       "2  i gave up my internship with the dmrg and am f...              4   \n",
       "3                         i dont know i feel so lost              0   \n",
       "4  i am a kindergarten teacher and i am thoroughl...              4   \n",
       "\n",
       "  emotion_label_description  sentiment_label  \n",
       "0                      fear                0  \n",
       "1                   sadness                0  \n",
       "2                      fear                0  \n",
       "3                   sadness                0  \n",
       "4                      fear                0  "
      ]
     },
     "execution_count": 9,
     "metadata": {},
     "output_type": "execute_result"
    }
   ],
   "source": [
    "df['sentiment_label'] = df['emotion_label'].apply(lambda label: 0 if label in [0, 3, 4] else 1 if label in [1, 2] else 2)\n",
    "\n",
    "df.head()"
   ]
  },
  {
   "cell_type": "markdown",
   "metadata": {},
   "source": [
    "Adding sentiment_label_description attribute"
   ]
  },
  {
   "cell_type": "code",
   "execution_count": 10,
   "metadata": {},
   "outputs": [],
   "source": [
    "sentiment_label_description_map = {\n",
    "  0: 'negative',\n",
    "  1: 'positive',\n",
    "  2: 'neutral'\n",
    "}"
   ]
  },
  {
   "cell_type": "code",
   "execution_count": 11,
   "metadata": {},
   "outputs": [
    {
     "data": {
      "text/html": [
       "<div>\n",
       "<style scoped>\n",
       "    .dataframe tbody tr th:only-of-type {\n",
       "        vertical-align: middle;\n",
       "    }\n",
       "\n",
       "    .dataframe tbody tr th {\n",
       "        vertical-align: top;\n",
       "    }\n",
       "\n",
       "    .dataframe thead th {\n",
       "        text-align: right;\n",
       "    }\n",
       "</style>\n",
       "<table border=\"1\" class=\"dataframe\">\n",
       "  <thead>\n",
       "    <tr style=\"text-align: right;\">\n",
       "      <th></th>\n",
       "      <th>text</th>\n",
       "      <th>emotion_label</th>\n",
       "      <th>emotion_label_description</th>\n",
       "      <th>sentiment_label</th>\n",
       "      <th>sentiment_label_description</th>\n",
       "    </tr>\n",
       "  </thead>\n",
       "  <tbody>\n",
       "    <tr>\n",
       "      <th>0</th>\n",
       "      <td>i just feel really helpless and heavy hearted</td>\n",
       "      <td>4</td>\n",
       "      <td>fear</td>\n",
       "      <td>0</td>\n",
       "      <td>negative</td>\n",
       "    </tr>\n",
       "    <tr>\n",
       "      <th>1</th>\n",
       "      <td>ive enjoyed being able to slouch about relax a...</td>\n",
       "      <td>0</td>\n",
       "      <td>sadness</td>\n",
       "      <td>0</td>\n",
       "      <td>negative</td>\n",
       "    </tr>\n",
       "    <tr>\n",
       "      <th>2</th>\n",
       "      <td>i gave up my internship with the dmrg and am f...</td>\n",
       "      <td>4</td>\n",
       "      <td>fear</td>\n",
       "      <td>0</td>\n",
       "      <td>negative</td>\n",
       "    </tr>\n",
       "    <tr>\n",
       "      <th>3</th>\n",
       "      <td>i dont know i feel so lost</td>\n",
       "      <td>0</td>\n",
       "      <td>sadness</td>\n",
       "      <td>0</td>\n",
       "      <td>negative</td>\n",
       "    </tr>\n",
       "    <tr>\n",
       "      <th>4</th>\n",
       "      <td>i am a kindergarten teacher and i am thoroughl...</td>\n",
       "      <td>4</td>\n",
       "      <td>fear</td>\n",
       "      <td>0</td>\n",
       "      <td>negative</td>\n",
       "    </tr>\n",
       "  </tbody>\n",
       "</table>\n",
       "</div>"
      ],
      "text/plain": [
       "                                                text  emotion_label  \\\n",
       "0      i just feel really helpless and heavy hearted              4   \n",
       "1  ive enjoyed being able to slouch about relax a...              0   \n",
       "2  i gave up my internship with the dmrg and am f...              4   \n",
       "3                         i dont know i feel so lost              0   \n",
       "4  i am a kindergarten teacher and i am thoroughl...              4   \n",
       "\n",
       "  emotion_label_description  sentiment_label sentiment_label_description  \n",
       "0                      fear                0                    negative  \n",
       "1                   sadness                0                    negative  \n",
       "2                      fear                0                    negative  \n",
       "3                   sadness                0                    negative  \n",
       "4                      fear                0                    negative  "
      ]
     },
     "execution_count": 11,
     "metadata": {},
     "output_type": "execute_result"
    }
   ],
   "source": [
    "df['sentiment_label_description'] = df['sentiment_label'].apply(lambda label: sentiment_label_description_map.get(label))\n",
    "\n",
    "df.head()"
   ]
  },
  {
   "cell_type": "markdown",
   "metadata": {},
   "source": [
    "Visualizing the class distribution"
   ]
  },
  {
   "cell_type": "code",
   "execution_count": 12,
   "metadata": {},
   "outputs": [],
   "source": [
    "def plot_countplot(\n",
    "  data=None, x=None, y=None, \n",
    "  palette=palette_a1, height=5, \n",
    "  title=' ', subtitle=' ', description=' ', ):\n",
    "  \n",
    "  sns.set(style = 'whitegrid')\n",
    "\n",
    "  sns.set(\n",
    "    style='whitegrid',\n",
    "    rc={'figure.figsize': (20,height)}, )\n",
    "\n",
    "  g=sns.countplot(\n",
    "    data=data, \n",
    "    y=y,\n",
    "    palette=palette, \n",
    "    hue=y,\n",
    "    legend=False, )\n",
    "\n",
    "  g.set_ylabel(' \\n\\n')\n",
    "  g.set_xlabel(' \\n\\n\\n\\n')\n",
    "\n",
    "  g.set_title(\n",
    "    f'\\n\\n\\n{title}\\n\\n'.upper(),\n",
    "    loc='left',\n",
    "    fontdict=dict(\n",
    "      fontsize=16,\n",
    "      fontweight='bold', ), )\n",
    "\n",
    "  g.set_yticks(g.get_yticks())\n",
    "  g.set_yticklabels(\n",
    "    [tick_label.get_text().title() for tick_label in g.get_yticklabels()],\n",
    "    fontdict=dict(\n",
    "      fontsize=14,\n",
    "      fontweight='medium', ), )\n",
    "\n",
    "  g.set_xticks(g.get_xticks())\n",
    "  g.set_xticklabels(\n",
    "    [tick_label.get_text().title() for tick_label in g.get_xticklabels()],\n",
    "    fontdict=dict(\n",
    "      fontsize=14,\n",
    "      fontweight='medium', ), )\n",
    "\n",
    "  plt.text(\n",
    "    s=f'{subtitle}',\n",
    "    alpha=0.5, x=0, y=1.05,\n",
    "    horizontalalignment='left',\n",
    "    transform=g.transAxes, )\n",
    "\n",
    "  plt.text(\n",
    "    s=f'{description}',\n",
    "    alpha=0.5, x=0, y=-.18,\n",
    "    verticalalignment='baseline',\n",
    "    horizontalalignment='left',\n",
    "    transform=g.transAxes, )\n",
    "\n",
    "  for container in g.containers:\n",
    "    labels = g.bar_label(\n",
    "      container=container,\n",
    "      padding=10,\n",
    "      fmt='{:,.0f}', )\n",
    "    \n",
    "    for label in labels:\n",
    "      label.set_fontsize(14)\n",
    "      label.set_fontweight('bold') \n",
    "\n",
    "  plt.text(\n",
    "    s=' ', x=1.08, y=1,\n",
    "    transform=g.transAxes, )\n",
    "\n",
    "  sns.despine()\n",
    "\n",
    "  return g"
   ]
  },
  {
   "cell_type": "code",
   "execution_count": 13,
   "metadata": {},
   "outputs": [
    {
     "data": {
      "image/png": "[encoded data removed]",
      "text/plain": [
       "<Figure size 2000x500 with 1 Axes>"
      ]
     },
     "metadata": {},
     "output_type": "display_data"
    }
   ],
   "source": [
    "plot_countplot(\n",
    "  data=df, y='sentiment_label_description',\n",
    "  title = 'Countplot of target classification from the raw data of labeled twitter dataset: Sentiment',\n",
    "  height = 5,\n",
    ");"
   ]
  },
  {
   "cell_type": "code",
   "execution_count": 14,
   "metadata": {},
   "outputs": [
    {
     "data": {
      "image/png": "[encoded data removed]",
      "text/plain": [
       "<Figure size 2000x500 with 1 Axes>"
      ]
     },
     "metadata": {},
     "output_type": "display_data"
    }
   ],
   "source": [
    "plot_countplot(\n",
    "  data=df, y='emotion_label_description',\n",
    "  title='Countplot of target classification from the raw data of labeled twitter dataset: Emotion',\n",
    "  height=5, palette=palette_a2\n",
    ");"
   ]
  },
  {
   "cell_type": "markdown",
   "metadata": {},
   "source": [
    "Casting attributes to the right datatype"
   ]
  },
  {
   "cell_type": "code",
   "execution_count": 15,
   "metadata": {},
   "outputs": [],
   "source": [
    "category_attribute_list = ['emotion_label_description', 'sentiment_label_description']\n",
    "integer_attribute_list = ['emotion_label', 'sentiment_label']\n",
    "\n",
    "for attribute in category_attribute_list:\n",
    "  df[attribute] = df[attribute].astype('category')\n",
    "\n",
    "for attribute in integer_attribute_list:\n",
    "  df[attribute] = df[attribute].astype('int')"
   ]
  },
  {
   "cell_type": "code",
   "execution_count": 16,
   "metadata": {},
   "outputs": [
    {
     "name": "stdout",
     "output_type": "stream",
     "text": [
      "<class 'pandas.core.frame.DataFrame'>\n",
      "Index: 416809 entries, 0 to 416808\n",
      "Data columns (total 5 columns):\n",
      " #   Column                       Non-Null Count   Dtype   \n",
      "---  ------                       --------------   -----   \n",
      " 0   text                         416809 non-null  object  \n",
      " 1   emotion_label                416809 non-null  int64   \n",
      " 2   emotion_label_description    416809 non-null  category\n",
      " 3   sentiment_label              416809 non-null  int64   \n",
      " 4   sentiment_label_description  416809 non-null  category\n",
      "dtypes: category(2), int64(2), object(1)\n",
      "memory usage: 13.5+ MB\n"
     ]
    }
   ],
   "source": [
    "df.info(verbose = True, show_counts = True)"
   ]
  },
  {
   "cell_type": "markdown",
   "metadata": {},
   "source": [
    "## Execution"
   ]
  },
  {
   "cell_type": "markdown",
   "metadata": {},
   "source": [
    "### Data preprocessing\n",
    "Making a data pipeline to:\n",
    "* Denoise: removing the twitter usernames and non-alphabetical characters and stripping it of white space\n",
    "* Stopwords removal: stripping out the stopwords in the content such as `[a, an, the, and, but, or]` to improve data quality\n",
    "* Lemmatization: reducing words to their base form e.g. `[changing, changed, change] -> change`"
   ]
  },
  {
   "cell_type": "markdown",
   "metadata": {},
   "source": [
    "Removing the username and non-alphabetical characters in the content to reduce noise and improve data quality"
   ]
  },
  {
   "cell_type": "code",
   "execution_count": 17,
   "metadata": {},
   "outputs": [],
   "source": [
    "def denoiser(df: pd.DataFrame):\n",
    "  def strip(text: str):\n",
    "    text = re.sub(r'@\\w+', '', text) \n",
    "    text = re.sub(r'[^a-zA-Z ]', '', text)\n",
    "    text = re.sub(r'https\\w+', '', text)\n",
    "    text = re.sub(r'http\\w+', '', text)\n",
    "    text = text.strip()\n",
    "    return text.lower()\n",
    "\n",
    "  df['text'] = df['text'].apply(strip)\n",
    "  return df"
   ]
  },
  {
   "cell_type": "markdown",
   "metadata": {},
   "source": [
    "Removing stopwords for standardization"
   ]
  },
  {
   "cell_type": "code",
   "execution_count": 18,
   "metadata": {},
   "outputs": [],
   "source": [
    "def stopwords_remover(df: pd.DataFrame):\n",
    "  matcher = re.compile(r\"|\".join([fr\"\\b{word}\\b\" for word in stopwords.words(\"english\")]))\n",
    "  def remove_stopwords(text: str):\n",
    "    return \" \".join(matcher.sub('', text).split())\n",
    "\n",
    "  df['text'] = df['text'].apply(remove_stopwords)\n",
    "  return df"
   ]
  },
  {
   "cell_type": "markdown",
   "metadata": {},
   "source": [
    "Removing observations with null text values"
   ]
  },
  {
   "cell_type": "code",
   "execution_count": 19,
   "metadata": {},
   "outputs": [],
   "source": [
    "def null_content_observation_remover(df: pd.DataFrame):\n",
    "  df = df[~df['text'].isnull()]\n",
    "  df = df[~df['text'].isin([''])]\n",
    "  df = df.reset_index(drop=True)\n",
    "  return df"
   ]
  },
  {
   "cell_type": "markdown",
   "metadata": {},
   "source": [
    "Removing observations with less than 20 characters to improve model accuracy"
   ]
  },
  {
   "cell_type": "code",
   "execution_count": 20,
   "metadata": {},
   "outputs": [],
   "source": [
    "def n_characters_content_remover(df: pd.DataFrame, len_limit: int):\n",
    "  df = df[df['text'].apply(lambda text: len(text) > len_limit)]\n",
    "  df = df.reset_index(drop=True)\n",
    "  return df"
   ]
  },
  {
   "cell_type": "markdown",
   "metadata": {},
   "source": [
    "Reducing words to their base or lemmatizing to enhance the effectiveness of the model"
   ]
  },
  {
   "cell_type": "code",
   "execution_count": 21,
   "metadata": {},
   "outputs": [],
   "source": [
    "def lemmatizer(df: pd.DataFrame):\n",
    "  wordnet_lemmatizer = WordNetLemmatizer()\n",
    "  tokenizer = WordPunctTokenizer()\n",
    "\n",
    "  wordnet_pos_tag_map = {\n",
    "    \"J\": wordnet.ADJ,\n",
    "    \"N\": wordnet.NOUN,\n",
    "    \"V\": wordnet.VERB,\n",
    "    \"R\": wordnet.ADV,\n",
    "  }\n",
    "\n",
    "  def lemmatize(text: str):\n",
    "    tokens = tokenizer.tokenize(text)\n",
    "    pos_tags = pos_tag(tokens)\n",
    "\n",
    "    lemmatized_tokens = []\n",
    "    for token, tag in pos_tags:\n",
    "      wordnet_tag = wordnet_pos_tag_map.get(tag[0].upper())\n",
    "      if wordnet_tag is None:\n",
    "        lemmatized_tokens.append(token)\n",
    "      else:\n",
    "        lemmatized_tokens.append(wordnet_lemmatizer.lemmatize(token, wordnet_tag))\n",
    "\n",
    "    return ' '.join(lemmatized_tokens)\n",
    "\n",
    "  df['text'] = df['text'].apply(lemmatize)\n",
    "  return df\n",
    "    "
   ]
  },
  {
   "cell_type": "markdown",
   "metadata": {},
   "source": [
    "Running the pipeline and exporting to csv to skip reprocessing of the dataset"
   ]
  },
  {
   "cell_type": "code",
   "execution_count": 22,
   "metadata": {},
   "outputs": [],
   "source": [
    "if os.path.isfile('data/dataset_processed.csv'):\n",
    "  df = pd.read_csv('data/dataset_processed.csv')\n",
    "else:\n",
    "  df = (\n",
    "    df\n",
    "    .pipe(denoiser)\n",
    "    .pipe(stopwords_remover)\n",
    "    .pipe(null_content_observation_remover)\n",
    "    .pipe(n_characters_content_remover, 20)\n",
    "    .pipe(lemmatizer))\n",
    "\n",
    "  df.to_csv('data/dataset_processed.csv', index=False)"
   ]
  },
  {
   "cell_type": "code",
   "execution_count": 23,
   "metadata": {},
   "outputs": [
    {
     "name": "stdout",
     "output_type": "stream",
     "text": [
      "<class 'pandas.core.frame.DataFrame'>\n",
      "RangeIndex: 389684 entries, 0 to 389683\n",
      "Data columns (total 5 columns):\n",
      " #   Column                       Non-Null Count   Dtype \n",
      "---  ------                       --------------   ----- \n",
      " 0   text                         389684 non-null  object\n",
      " 1   emotion_label                389684 non-null  int64 \n",
      " 2   emotion_label_description    389684 non-null  object\n",
      " 3   sentiment_label              389684 non-null  int64 \n",
      " 4   sentiment_label_description  389684 non-null  object\n",
      "dtypes: int64(2), object(3)\n",
      "memory usage: 14.9+ MB\n"
     ]
    }
   ],
   "source": [
    "df.info()"
   ]
  },
  {
   "cell_type": "code",
   "execution_count": 24,
   "metadata": {},
   "outputs": [
    {
     "data": {
      "text/html": [
       "<div>\n",
       "<style scoped>\n",
       "    .dataframe tbody tr th:only-of-type {\n",
       "        vertical-align: middle;\n",
       "    }\n",
       "\n",
       "    .dataframe tbody tr th {\n",
       "        vertical-align: top;\n",
       "    }\n",
       "\n",
       "    .dataframe thead th {\n",
       "        text-align: right;\n",
       "    }\n",
       "</style>\n",
       "<table border=\"1\" class=\"dataframe\">\n",
       "  <thead>\n",
       "    <tr style=\"text-align: right;\">\n",
       "      <th></th>\n",
       "      <th>text</th>\n",
       "      <th>emotion_label</th>\n",
       "      <th>emotion_label_description</th>\n",
       "      <th>sentiment_label</th>\n",
       "      <th>sentiment_label_description</th>\n",
       "    </tr>\n",
       "  </thead>\n",
       "  <tbody>\n",
       "    <tr>\n",
       "      <th>0</th>\n",
       "      <td>feel really helpless heavy hearted</td>\n",
       "      <td>4</td>\n",
       "      <td>fear</td>\n",
       "      <td>0</td>\n",
       "      <td>negative</td>\n",
       "    </tr>\n",
       "    <tr>\n",
       "      <th>1</th>\n",
       "      <td>ive enjoy able slouch relax unwind frankly nee...</td>\n",
       "      <td>0</td>\n",
       "      <td>sadness</td>\n",
       "      <td>0</td>\n",
       "      <td>negative</td>\n",
       "    </tr>\n",
       "    <tr>\n",
       "      <th>2</th>\n",
       "      <td>give internship dmrg feeling distraught</td>\n",
       "      <td>4</td>\n",
       "      <td>fear</td>\n",
       "      <td>0</td>\n",
       "      <td>negative</td>\n",
       "    </tr>\n",
       "    <tr>\n",
       "      <th>3</th>\n",
       "      <td>kindergarten teacher thoroughly weary job take...</td>\n",
       "      <td>4</td>\n",
       "      <td>fear</td>\n",
       "      <td>0</td>\n",
       "      <td>negative</td>\n",
       "    </tr>\n",
       "    <tr>\n",
       "      <th>4</th>\n",
       "      <td>begin feel quite disheartened</td>\n",
       "      <td>0</td>\n",
       "      <td>sadness</td>\n",
       "      <td>0</td>\n",
       "      <td>negative</td>\n",
       "    </tr>\n",
       "  </tbody>\n",
       "</table>\n",
       "</div>"
      ],
      "text/plain": [
       "                                                text  emotion_label  \\\n",
       "0                 feel really helpless heavy hearted              4   \n",
       "1  ive enjoy able slouch relax unwind frankly nee...              0   \n",
       "2            give internship dmrg feeling distraught              4   \n",
       "3  kindergarten teacher thoroughly weary job take...              4   \n",
       "4                      begin feel quite disheartened              0   \n",
       "\n",
       "  emotion_label_description  sentiment_label sentiment_label_description  \n",
       "0                      fear                0                    negative  \n",
       "1                   sadness                0                    negative  \n",
       "2                      fear                0                    negative  \n",
       "3                      fear                0                    negative  \n",
       "4                   sadness                0                    negative  "
      ]
     },
     "execution_count": 24,
     "metadata": {},
     "output_type": "execute_result"
    }
   ],
   "source": [
    "df.head()"
   ]
  },
  {
   "cell_type": "markdown",
   "metadata": {},
   "source": [
    "### Modeling"
   ]
  },
  {
   "cell_type": "markdown",
   "metadata": {},
   "source": [
    "Initializing the primary variables"
   ]
  },
  {
   "cell_type": "code",
   "execution_count": 25,
   "metadata": {},
   "outputs": [],
   "source": [
    "x = np.array(df['text'])\n",
    "y_sentiment = np.array(df['sentiment_label'])\n",
    "y_emotion = np.array(df['emotion_label'])"
   ]
  },
  {
   "cell_type": "markdown",
   "metadata": {},
   "source": [
    "TF-IDF Vectorizer to evaluate the importance of a word relative to the collection of documents by combining two metrics:\n",
    "* **Term Frequency (TF)**: Measures how frequently a term appears in a document. It reflects the local importance of the term within a specific document.\n",
    "* **Inverse Document Frequency (IDF)**: Measures how important a term is in the entire corpus. It decreases the weight of terms that appear frequently across many documents and increases the weight of terms that are rare."
   ]
  },
  {
   "cell_type": "code",
   "execution_count": 26,
   "metadata": {},
   "outputs": [],
   "source": [
    "vectorizer = TfidfVectorizer(ngram_range=(1, 2)).fit(x)"
   ]
  },
  {
   "cell_type": "markdown",
   "metadata": {},
   "source": [
    "Chi-squared test based feature selector to select the most relevant features for a model based on their relationship with the target variable.\n",
    "* **Chi-Squared Test:** The Chi-squared test assesses whether the observed frequencies of features (terms) in the dataset differ significantly from expected frequencies. It measures the independence between features and the target variable.\n",
    "* **Feature Selection with SelectKBest**: SelectKBest uses the Chi-squared test to rank features based on their statistical significance.SelectKBest selects the k features with the highest Chi-squared scores."
   ]
  },
  {
   "cell_type": "code",
   "execution_count": 27,
   "metadata": {},
   "outputs": [],
   "source": [
    "selector_sentiment = SelectKBest(chi2, k=4500)\n",
    "selector_emotion = SelectKBest(chi2, k=4500)"
   ]
  },
  {
   "cell_type": "markdown",
   "metadata": {},
   "source": [
    "Defining a class to streamline the transformers"
   ]
  },
  {
   "cell_type": "code",
   "execution_count": 28,
   "metadata": {},
   "outputs": [],
   "source": [
    "class Transformer:\n",
    "  def __init__(self, x):\n",
    "    self.x = x\n",
    "\n",
    "  def vectorizer(self):\n",
    "    self.x = vectorizer.transform(self.x)\n",
    "    return self\n",
    "\n",
    "  def selector(self, selector):\n",
    "    self.x = selector.transform(self.x)\n",
    "    return self\n",
    "\n",
    "  def get_value(self):\n",
    "    return self.x"
   ]
  },
  {
   "cell_type": "markdown",
   "metadata": {},
   "source": [
    "Splitting the training and testing data"
   ]
  },
  {
   "cell_type": "code",
   "execution_count": 29,
   "metadata": {},
   "outputs": [],
   "source": [
    "x_sentiment_train, x_sentiment_test, y_sentiment_train, y_sentiment_test = train_test_split(\n",
    "  x, y_sentiment,\n",
    "  test_size=0.25,\n",
    "  random_state=42,\n",
    "  stratify=y_sentiment, )\n",
    "\n",
    "selector_sentiment.fit(\n",
    "  vectorizer.transform(x_sentiment_train),\n",
    "  y_sentiment_train, )\n",
    "\n",
    "x_sentiment_train_selected = (\n",
    "  Transformer(x_sentiment_train)\n",
    "  .vectorizer()\n",
    "  .selector(selector_sentiment)\n",
    "  .get_value())\n",
    "\n",
    "x_sentiment_test_selected = (\n",
    "  Transformer(x_sentiment_test)\n",
    "  .vectorizer()\n",
    "  .selector(selector_sentiment)\n",
    "  .get_value())"
   ]
  },
  {
   "cell_type": "code",
   "execution_count": 30,
   "metadata": {},
   "outputs": [],
   "source": [
    "x_emotion_train, x_emotion_test, y_emotion_train, y_emotion_test = train_test_split(\n",
    "  x, y_emotion,\n",
    "  test_size=0.25,\n",
    "  random_state=42,\n",
    "  stratify=y_emotion, )\n",
    "\n",
    "selector_emotion.fit(\n",
    "  vectorizer.transform(x_emotion_train),\n",
    "  y_emotion_train, )\n",
    "\n",
    "x_emotion_train_selected = (\n",
    "  Transformer(x_emotion_train)\n",
    "  .vectorizer()\n",
    "  .selector(selector_emotion)\n",
    "  .get_value())\n",
    "\n",
    "x_emotion_test_selected = (\n",
    "  Transformer(x_emotion_test)\n",
    "  .vectorizer()\n",
    "  .selector(selector_emotion)\n",
    "  .get_value())\n"
   ]
  },
  {
   "cell_type": "markdown",
   "metadata": {},
   "source": [
    "Visualizing the first 10 observations of vectorized data of the sentiment training data"
   ]
  },
  {
   "cell_type": "code",
   "execution_count": 31,
   "metadata": {},
   "outputs": [
    {
     "data": {
      "text/html": [
       "<div>\n",
       "<style scoped>\n",
       "    .dataframe tbody tr th:only-of-type {\n",
       "        vertical-align: middle;\n",
       "    }\n",
       "\n",
       "    .dataframe tbody tr th {\n",
       "        vertical-align: top;\n",
       "    }\n",
       "\n",
       "    .dataframe thead th {\n",
       "        text-align: right;\n",
       "    }\n",
       "</style>\n",
       "<table border=\"1\" class=\"dataframe\">\n",
       "  <thead>\n",
       "    <tr style=\"text-align: right;\">\n",
       "      <th></th>\n",
       "      <th>aa</th>\n",
       "      <th>aa blast</th>\n",
       "      <th>aa button</th>\n",
       "      <th>aa config</th>\n",
       "      <th>aa didnt</th>\n",
       "      <th>aa feel</th>\n",
       "      <th>aa finally</th>\n",
       "      <th>aa full</th>\n",
       "      <th>aa linkurl</th>\n",
       "      <th>aa meeting</th>\n",
       "      <th>...</th>\n",
       "      <th>zyrtec feel</th>\n",
       "      <th>zz</th>\n",
       "      <th>zz bleh</th>\n",
       "      <th>zz top</th>\n",
       "      <th>zzz</th>\n",
       "      <th>zzzz</th>\n",
       "      <th>zzzz know</th>\n",
       "      <th>zzzzzz</th>\n",
       "      <th>zzzzzzs</th>\n",
       "      <th>zzzzzzz</th>\n",
       "    </tr>\n",
       "  </thead>\n",
       "  <tbody>\n",
       "    <tr>\n",
       "      <th>0</th>\n",
       "      <td>0.0</td>\n",
       "      <td>0.0</td>\n",
       "      <td>0.0</td>\n",
       "      <td>0.0</td>\n",
       "      <td>0.0</td>\n",
       "      <td>0.0</td>\n",
       "      <td>0.0</td>\n",
       "      <td>0.0</td>\n",
       "      <td>0.0</td>\n",
       "      <td>0.0</td>\n",
       "      <td>...</td>\n",
       "      <td>0.0</td>\n",
       "      <td>0.0</td>\n",
       "      <td>0.0</td>\n",
       "      <td>0.0</td>\n",
       "      <td>0.0</td>\n",
       "      <td>0.0</td>\n",
       "      <td>0.0</td>\n",
       "      <td>0.0</td>\n",
       "      <td>0.0</td>\n",
       "      <td>0.0</td>\n",
       "    </tr>\n",
       "    <tr>\n",
       "      <th>1</th>\n",
       "      <td>0.0</td>\n",
       "      <td>0.0</td>\n",
       "      <td>0.0</td>\n",
       "      <td>0.0</td>\n",
       "      <td>0.0</td>\n",
       "      <td>0.0</td>\n",
       "      <td>0.0</td>\n",
       "      <td>0.0</td>\n",
       "      <td>0.0</td>\n",
       "      <td>0.0</td>\n",
       "      <td>...</td>\n",
       "      <td>0.0</td>\n",
       "      <td>0.0</td>\n",
       "      <td>0.0</td>\n",
       "      <td>0.0</td>\n",
       "      <td>0.0</td>\n",
       "      <td>0.0</td>\n",
       "      <td>0.0</td>\n",
       "      <td>0.0</td>\n",
       "      <td>0.0</td>\n",
       "      <td>0.0</td>\n",
       "    </tr>\n",
       "    <tr>\n",
       "      <th>2</th>\n",
       "      <td>0.0</td>\n",
       "      <td>0.0</td>\n",
       "      <td>0.0</td>\n",
       "      <td>0.0</td>\n",
       "      <td>0.0</td>\n",
       "      <td>0.0</td>\n",
       "      <td>0.0</td>\n",
       "      <td>0.0</td>\n",
       "      <td>0.0</td>\n",
       "      <td>0.0</td>\n",
       "      <td>...</td>\n",
       "      <td>0.0</td>\n",
       "      <td>0.0</td>\n",
       "      <td>0.0</td>\n",
       "      <td>0.0</td>\n",
       "      <td>0.0</td>\n",
       "      <td>0.0</td>\n",
       "      <td>0.0</td>\n",
       "      <td>0.0</td>\n",
       "      <td>0.0</td>\n",
       "      <td>0.0</td>\n",
       "    </tr>\n",
       "    <tr>\n",
       "      <th>3</th>\n",
       "      <td>0.0</td>\n",
       "      <td>0.0</td>\n",
       "      <td>0.0</td>\n",
       "      <td>0.0</td>\n",
       "      <td>0.0</td>\n",
       "      <td>0.0</td>\n",
       "      <td>0.0</td>\n",
       "      <td>0.0</td>\n",
       "      <td>0.0</td>\n",
       "      <td>0.0</td>\n",
       "      <td>...</td>\n",
       "      <td>0.0</td>\n",
       "      <td>0.0</td>\n",
       "      <td>0.0</td>\n",
       "      <td>0.0</td>\n",
       "      <td>0.0</td>\n",
       "      <td>0.0</td>\n",
       "      <td>0.0</td>\n",
       "      <td>0.0</td>\n",
       "      <td>0.0</td>\n",
       "      <td>0.0</td>\n",
       "    </tr>\n",
       "    <tr>\n",
       "      <th>4</th>\n",
       "      <td>0.0</td>\n",
       "      <td>0.0</td>\n",
       "      <td>0.0</td>\n",
       "      <td>0.0</td>\n",
       "      <td>0.0</td>\n",
       "      <td>0.0</td>\n",
       "      <td>0.0</td>\n",
       "      <td>0.0</td>\n",
       "      <td>0.0</td>\n",
       "      <td>0.0</td>\n",
       "      <td>...</td>\n",
       "      <td>0.0</td>\n",
       "      <td>0.0</td>\n",
       "      <td>0.0</td>\n",
       "      <td>0.0</td>\n",
       "      <td>0.0</td>\n",
       "      <td>0.0</td>\n",
       "      <td>0.0</td>\n",
       "      <td>0.0</td>\n",
       "      <td>0.0</td>\n",
       "      <td>0.0</td>\n",
       "    </tr>\n",
       "    <tr>\n",
       "      <th>5</th>\n",
       "      <td>0.0</td>\n",
       "      <td>0.0</td>\n",
       "      <td>0.0</td>\n",
       "      <td>0.0</td>\n",
       "      <td>0.0</td>\n",
       "      <td>0.0</td>\n",
       "      <td>0.0</td>\n",
       "      <td>0.0</td>\n",
       "      <td>0.0</td>\n",
       "      <td>0.0</td>\n",
       "      <td>...</td>\n",
       "      <td>0.0</td>\n",
       "      <td>0.0</td>\n",
       "      <td>0.0</td>\n",
       "      <td>0.0</td>\n",
       "      <td>0.0</td>\n",
       "      <td>0.0</td>\n",
       "      <td>0.0</td>\n",
       "      <td>0.0</td>\n",
       "      <td>0.0</td>\n",
       "      <td>0.0</td>\n",
       "    </tr>\n",
       "    <tr>\n",
       "      <th>6</th>\n",
       "      <td>0.0</td>\n",
       "      <td>0.0</td>\n",
       "      <td>0.0</td>\n",
       "      <td>0.0</td>\n",
       "      <td>0.0</td>\n",
       "      <td>0.0</td>\n",
       "      <td>0.0</td>\n",
       "      <td>0.0</td>\n",
       "      <td>0.0</td>\n",
       "      <td>0.0</td>\n",
       "      <td>...</td>\n",
       "      <td>0.0</td>\n",
       "      <td>0.0</td>\n",
       "      <td>0.0</td>\n",
       "      <td>0.0</td>\n",
       "      <td>0.0</td>\n",
       "      <td>0.0</td>\n",
       "      <td>0.0</td>\n",
       "      <td>0.0</td>\n",
       "      <td>0.0</td>\n",
       "      <td>0.0</td>\n",
       "    </tr>\n",
       "    <tr>\n",
       "      <th>7</th>\n",
       "      <td>0.0</td>\n",
       "      <td>0.0</td>\n",
       "      <td>0.0</td>\n",
       "      <td>0.0</td>\n",
       "      <td>0.0</td>\n",
       "      <td>0.0</td>\n",
       "      <td>0.0</td>\n",
       "      <td>0.0</td>\n",
       "      <td>0.0</td>\n",
       "      <td>0.0</td>\n",
       "      <td>...</td>\n",
       "      <td>0.0</td>\n",
       "      <td>0.0</td>\n",
       "      <td>0.0</td>\n",
       "      <td>0.0</td>\n",
       "      <td>0.0</td>\n",
       "      <td>0.0</td>\n",
       "      <td>0.0</td>\n",
       "      <td>0.0</td>\n",
       "      <td>0.0</td>\n",
       "      <td>0.0</td>\n",
       "    </tr>\n",
       "    <tr>\n",
       "      <th>8</th>\n",
       "      <td>0.0</td>\n",
       "      <td>0.0</td>\n",
       "      <td>0.0</td>\n",
       "      <td>0.0</td>\n",
       "      <td>0.0</td>\n",
       "      <td>0.0</td>\n",
       "      <td>0.0</td>\n",
       "      <td>0.0</td>\n",
       "      <td>0.0</td>\n",
       "      <td>0.0</td>\n",
       "      <td>...</td>\n",
       "      <td>0.0</td>\n",
       "      <td>0.0</td>\n",
       "      <td>0.0</td>\n",
       "      <td>0.0</td>\n",
       "      <td>0.0</td>\n",
       "      <td>0.0</td>\n",
       "      <td>0.0</td>\n",
       "      <td>0.0</td>\n",
       "      <td>0.0</td>\n",
       "      <td>0.0</td>\n",
       "    </tr>\n",
       "    <tr>\n",
       "      <th>9</th>\n",
       "      <td>0.0</td>\n",
       "      <td>0.0</td>\n",
       "      <td>0.0</td>\n",
       "      <td>0.0</td>\n",
       "      <td>0.0</td>\n",
       "      <td>0.0</td>\n",
       "      <td>0.0</td>\n",
       "      <td>0.0</td>\n",
       "      <td>0.0</td>\n",
       "      <td>0.0</td>\n",
       "      <td>...</td>\n",
       "      <td>0.0</td>\n",
       "      <td>0.0</td>\n",
       "      <td>0.0</td>\n",
       "      <td>0.0</td>\n",
       "      <td>0.0</td>\n",
       "      <td>0.0</td>\n",
       "      <td>0.0</td>\n",
       "      <td>0.0</td>\n",
       "      <td>0.0</td>\n",
       "      <td>0.0</td>\n",
       "    </tr>\n",
       "  </tbody>\n",
       "</table>\n",
       "<p>10 rows × 1311674 columns</p>\n",
       "</div>"
      ],
      "text/plain": [
       "    aa  aa blast  aa button  aa config  aa didnt  aa feel  aa finally  \\\n",
       "0  0.0       0.0        0.0        0.0       0.0      0.0         0.0   \n",
       "1  0.0       0.0        0.0        0.0       0.0      0.0         0.0   \n",
       "2  0.0       0.0        0.0        0.0       0.0      0.0         0.0   \n",
       "3  0.0       0.0        0.0        0.0       0.0      0.0         0.0   \n",
       "4  0.0       0.0        0.0        0.0       0.0      0.0         0.0   \n",
       "5  0.0       0.0        0.0        0.0       0.0      0.0         0.0   \n",
       "6  0.0       0.0        0.0        0.0       0.0      0.0         0.0   \n",
       "7  0.0       0.0        0.0        0.0       0.0      0.0         0.0   \n",
       "8  0.0       0.0        0.0        0.0       0.0      0.0         0.0   \n",
       "9  0.0       0.0        0.0        0.0       0.0      0.0         0.0   \n",
       "\n",
       "   aa full  aa linkurl  aa meeting  ...  zyrtec feel   zz  zz bleh  zz top  \\\n",
       "0      0.0         0.0         0.0  ...          0.0  0.0      0.0     0.0   \n",
       "1      0.0         0.0         0.0  ...          0.0  0.0      0.0     0.0   \n",
       "2      0.0         0.0         0.0  ...          0.0  0.0      0.0     0.0   \n",
       "3      0.0         0.0         0.0  ...          0.0  0.0      0.0     0.0   \n",
       "4      0.0         0.0         0.0  ...          0.0  0.0      0.0     0.0   \n",
       "5      0.0         0.0         0.0  ...          0.0  0.0      0.0     0.0   \n",
       "6      0.0         0.0         0.0  ...          0.0  0.0      0.0     0.0   \n",
       "7      0.0         0.0         0.0  ...          0.0  0.0      0.0     0.0   \n",
       "8      0.0         0.0         0.0  ...          0.0  0.0      0.0     0.0   \n",
       "9      0.0         0.0         0.0  ...          0.0  0.0      0.0     0.0   \n",
       "\n",
       "   zzz  zzzz  zzzz know  zzzzzz  zzzzzzs  zzzzzzz  \n",
       "0  0.0   0.0        0.0     0.0      0.0      0.0  \n",
       "1  0.0   0.0        0.0     0.0      0.0      0.0  \n",
       "2  0.0   0.0        0.0     0.0      0.0      0.0  \n",
       "3  0.0   0.0        0.0     0.0      0.0      0.0  \n",
       "4  0.0   0.0        0.0     0.0      0.0      0.0  \n",
       "5  0.0   0.0        0.0     0.0      0.0      0.0  \n",
       "6  0.0   0.0        0.0     0.0      0.0      0.0  \n",
       "7  0.0   0.0        0.0     0.0      0.0      0.0  \n",
       "8  0.0   0.0        0.0     0.0      0.0      0.0  \n",
       "9  0.0   0.0        0.0     0.0      0.0      0.0  \n",
       "\n",
       "[10 rows x 1311674 columns]"
      ]
     },
     "execution_count": 31,
     "metadata": {},
     "output_type": "execute_result"
    }
   ],
   "source": [
    "pd.DataFrame(\n",
    "  vectorizer.transform(x_sentiment_train)[:10].toarray(), \n",
    "  columns=vectorizer.get_feature_names_out(), )"
   ]
  },
  {
   "cell_type": "markdown",
   "metadata": {},
   "source": [
    "With how there's still so much noise on the features—a total of 1,311,674 features, feature selection is needed to reduce the dimensionality and improve computational efficiency."
   ]
  },
  {
   "cell_type": "markdown",
   "metadata": {},
   "source": [
    "Visualizing the first 10 observations of selected features of the sentiment training data"
   ]
  },
  {
   "cell_type": "code",
   "execution_count": 32,
   "metadata": {},
   "outputs": [
    {
     "data": {
      "text/html": [
       "<div>\n",
       "<style scoped>\n",
       "    .dataframe tbody tr th:only-of-type {\n",
       "        vertical-align: middle;\n",
       "    }\n",
       "\n",
       "    .dataframe tbody tr th {\n",
       "        vertical-align: top;\n",
       "    }\n",
       "\n",
       "    .dataframe thead th {\n",
       "        text-align: right;\n",
       "    }\n",
       "</style>\n",
       "<table border=\"1\" class=\"dataframe\">\n",
       "  <thead>\n",
       "    <tr style=\"text-align: right;\">\n",
       "      <th></th>\n",
       "      <th>abit curious</th>\n",
       "      <th>abit funny</th>\n",
       "      <th>able</th>\n",
       "      <th>able react</th>\n",
       "      <th>absence feeling</th>\n",
       "      <th>absolutely amaze</th>\n",
       "      <th>absolutely amazed</th>\n",
       "      <th>absolutely amazing</th>\n",
       "      <th>absolutely enthral</th>\n",
       "      <th>absolutely ludicrous</th>\n",
       "      <th>...</th>\n",
       "      <th>yastreblyansky</th>\n",
       "      <th>yeah impress</th>\n",
       "      <th>yeah scar</th>\n",
       "      <th>year</th>\n",
       "      <th>year strange</th>\n",
       "      <th>yes dont</th>\n",
       "      <th>yet curious</th>\n",
       "      <th>yet proud</th>\n",
       "      <th>youll pleasantly</th>\n",
       "      <th>youre funny</th>\n",
       "    </tr>\n",
       "  </thead>\n",
       "  <tbody>\n",
       "    <tr>\n",
       "      <th>0</th>\n",
       "      <td>0.0</td>\n",
       "      <td>0.0</td>\n",
       "      <td>0.0</td>\n",
       "      <td>0.0</td>\n",
       "      <td>0.0</td>\n",
       "      <td>0.0</td>\n",
       "      <td>0.0</td>\n",
       "      <td>0.0</td>\n",
       "      <td>0.0</td>\n",
       "      <td>0.0</td>\n",
       "      <td>...</td>\n",
       "      <td>0.0</td>\n",
       "      <td>0.0</td>\n",
       "      <td>0.0</td>\n",
       "      <td>0.000000</td>\n",
       "      <td>0.0</td>\n",
       "      <td>0.0</td>\n",
       "      <td>0.0</td>\n",
       "      <td>0.0</td>\n",
       "      <td>0.0</td>\n",
       "      <td>0.0</td>\n",
       "    </tr>\n",
       "    <tr>\n",
       "      <th>1</th>\n",
       "      <td>0.0</td>\n",
       "      <td>0.0</td>\n",
       "      <td>0.0</td>\n",
       "      <td>0.0</td>\n",
       "      <td>0.0</td>\n",
       "      <td>0.0</td>\n",
       "      <td>0.0</td>\n",
       "      <td>0.0</td>\n",
       "      <td>0.0</td>\n",
       "      <td>0.0</td>\n",
       "      <td>...</td>\n",
       "      <td>0.0</td>\n",
       "      <td>0.0</td>\n",
       "      <td>0.0</td>\n",
       "      <td>0.000000</td>\n",
       "      <td>0.0</td>\n",
       "      <td>0.0</td>\n",
       "      <td>0.0</td>\n",
       "      <td>0.0</td>\n",
       "      <td>0.0</td>\n",
       "      <td>0.0</td>\n",
       "    </tr>\n",
       "    <tr>\n",
       "      <th>2</th>\n",
       "      <td>0.0</td>\n",
       "      <td>0.0</td>\n",
       "      <td>0.0</td>\n",
       "      <td>0.0</td>\n",
       "      <td>0.0</td>\n",
       "      <td>0.0</td>\n",
       "      <td>0.0</td>\n",
       "      <td>0.0</td>\n",
       "      <td>0.0</td>\n",
       "      <td>0.0</td>\n",
       "      <td>...</td>\n",
       "      <td>0.0</td>\n",
       "      <td>0.0</td>\n",
       "      <td>0.0</td>\n",
       "      <td>0.000000</td>\n",
       "      <td>0.0</td>\n",
       "      <td>0.0</td>\n",
       "      <td>0.0</td>\n",
       "      <td>0.0</td>\n",
       "      <td>0.0</td>\n",
       "      <td>0.0</td>\n",
       "    </tr>\n",
       "    <tr>\n",
       "      <th>3</th>\n",
       "      <td>0.0</td>\n",
       "      <td>0.0</td>\n",
       "      <td>0.0</td>\n",
       "      <td>0.0</td>\n",
       "      <td>0.0</td>\n",
       "      <td>0.0</td>\n",
       "      <td>0.0</td>\n",
       "      <td>0.0</td>\n",
       "      <td>0.0</td>\n",
       "      <td>0.0</td>\n",
       "      <td>...</td>\n",
       "      <td>0.0</td>\n",
       "      <td>0.0</td>\n",
       "      <td>0.0</td>\n",
       "      <td>0.000000</td>\n",
       "      <td>0.0</td>\n",
       "      <td>0.0</td>\n",
       "      <td>0.0</td>\n",
       "      <td>0.0</td>\n",
       "      <td>0.0</td>\n",
       "      <td>0.0</td>\n",
       "    </tr>\n",
       "    <tr>\n",
       "      <th>4</th>\n",
       "      <td>0.0</td>\n",
       "      <td>0.0</td>\n",
       "      <td>0.0</td>\n",
       "      <td>0.0</td>\n",
       "      <td>0.0</td>\n",
       "      <td>0.0</td>\n",
       "      <td>0.0</td>\n",
       "      <td>0.0</td>\n",
       "      <td>0.0</td>\n",
       "      <td>0.0</td>\n",
       "      <td>...</td>\n",
       "      <td>0.0</td>\n",
       "      <td>0.0</td>\n",
       "      <td>0.0</td>\n",
       "      <td>0.000000</td>\n",
       "      <td>0.0</td>\n",
       "      <td>0.0</td>\n",
       "      <td>0.0</td>\n",
       "      <td>0.0</td>\n",
       "      <td>0.0</td>\n",
       "      <td>0.0</td>\n",
       "    </tr>\n",
       "    <tr>\n",
       "      <th>5</th>\n",
       "      <td>0.0</td>\n",
       "      <td>0.0</td>\n",
       "      <td>0.0</td>\n",
       "      <td>0.0</td>\n",
       "      <td>0.0</td>\n",
       "      <td>0.0</td>\n",
       "      <td>0.0</td>\n",
       "      <td>0.0</td>\n",
       "      <td>0.0</td>\n",
       "      <td>0.0</td>\n",
       "      <td>...</td>\n",
       "      <td>0.0</td>\n",
       "      <td>0.0</td>\n",
       "      <td>0.0</td>\n",
       "      <td>0.000000</td>\n",
       "      <td>0.0</td>\n",
       "      <td>0.0</td>\n",
       "      <td>0.0</td>\n",
       "      <td>0.0</td>\n",
       "      <td>0.0</td>\n",
       "      <td>0.0</td>\n",
       "    </tr>\n",
       "    <tr>\n",
       "      <th>6</th>\n",
       "      <td>0.0</td>\n",
       "      <td>0.0</td>\n",
       "      <td>0.0</td>\n",
       "      <td>0.0</td>\n",
       "      <td>0.0</td>\n",
       "      <td>0.0</td>\n",
       "      <td>0.0</td>\n",
       "      <td>0.0</td>\n",
       "      <td>0.0</td>\n",
       "      <td>0.0</td>\n",
       "      <td>...</td>\n",
       "      <td>0.0</td>\n",
       "      <td>0.0</td>\n",
       "      <td>0.0</td>\n",
       "      <td>0.000000</td>\n",
       "      <td>0.0</td>\n",
       "      <td>0.0</td>\n",
       "      <td>0.0</td>\n",
       "      <td>0.0</td>\n",
       "      <td>0.0</td>\n",
       "      <td>0.0</td>\n",
       "    </tr>\n",
       "    <tr>\n",
       "      <th>7</th>\n",
       "      <td>0.0</td>\n",
       "      <td>0.0</td>\n",
       "      <td>0.0</td>\n",
       "      <td>0.0</td>\n",
       "      <td>0.0</td>\n",
       "      <td>0.0</td>\n",
       "      <td>0.0</td>\n",
       "      <td>0.0</td>\n",
       "      <td>0.0</td>\n",
       "      <td>0.0</td>\n",
       "      <td>...</td>\n",
       "      <td>0.0</td>\n",
       "      <td>0.0</td>\n",
       "      <td>0.0</td>\n",
       "      <td>0.118731</td>\n",
       "      <td>0.0</td>\n",
       "      <td>0.0</td>\n",
       "      <td>0.0</td>\n",
       "      <td>0.0</td>\n",
       "      <td>0.0</td>\n",
       "      <td>0.0</td>\n",
       "    </tr>\n",
       "    <tr>\n",
       "      <th>8</th>\n",
       "      <td>0.0</td>\n",
       "      <td>0.0</td>\n",
       "      <td>0.0</td>\n",
       "      <td>0.0</td>\n",
       "      <td>0.0</td>\n",
       "      <td>0.0</td>\n",
       "      <td>0.0</td>\n",
       "      <td>0.0</td>\n",
       "      <td>0.0</td>\n",
       "      <td>0.0</td>\n",
       "      <td>...</td>\n",
       "      <td>0.0</td>\n",
       "      <td>0.0</td>\n",
       "      <td>0.0</td>\n",
       "      <td>0.000000</td>\n",
       "      <td>0.0</td>\n",
       "      <td>0.0</td>\n",
       "      <td>0.0</td>\n",
       "      <td>0.0</td>\n",
       "      <td>0.0</td>\n",
       "      <td>0.0</td>\n",
       "    </tr>\n",
       "    <tr>\n",
       "      <th>9</th>\n",
       "      <td>0.0</td>\n",
       "      <td>0.0</td>\n",
       "      <td>0.0</td>\n",
       "      <td>0.0</td>\n",
       "      <td>0.0</td>\n",
       "      <td>0.0</td>\n",
       "      <td>0.0</td>\n",
       "      <td>0.0</td>\n",
       "      <td>0.0</td>\n",
       "      <td>0.0</td>\n",
       "      <td>...</td>\n",
       "      <td>0.0</td>\n",
       "      <td>0.0</td>\n",
       "      <td>0.0</td>\n",
       "      <td>0.000000</td>\n",
       "      <td>0.0</td>\n",
       "      <td>0.0</td>\n",
       "      <td>0.0</td>\n",
       "      <td>0.0</td>\n",
       "      <td>0.0</td>\n",
       "      <td>0.0</td>\n",
       "    </tr>\n",
       "  </tbody>\n",
       "</table>\n",
       "<p>10 rows × 4500 columns</p>\n",
       "</div>"
      ],
      "text/plain": [
       "   abit curious  abit funny  able  able react  absence feeling  \\\n",
       "0           0.0         0.0   0.0         0.0              0.0   \n",
       "1           0.0         0.0   0.0         0.0              0.0   \n",
       "2           0.0         0.0   0.0         0.0              0.0   \n",
       "3           0.0         0.0   0.0         0.0              0.0   \n",
       "4           0.0         0.0   0.0         0.0              0.0   \n",
       "5           0.0         0.0   0.0         0.0              0.0   \n",
       "6           0.0         0.0   0.0         0.0              0.0   \n",
       "7           0.0         0.0   0.0         0.0              0.0   \n",
       "8           0.0         0.0   0.0         0.0              0.0   \n",
       "9           0.0         0.0   0.0         0.0              0.0   \n",
       "\n",
       "   absolutely amaze  absolutely amazed  absolutely amazing  \\\n",
       "0               0.0                0.0                 0.0   \n",
       "1               0.0                0.0                 0.0   \n",
       "2               0.0                0.0                 0.0   \n",
       "3               0.0                0.0                 0.0   \n",
       "4               0.0                0.0                 0.0   \n",
       "5               0.0                0.0                 0.0   \n",
       "6               0.0                0.0                 0.0   \n",
       "7               0.0                0.0                 0.0   \n",
       "8               0.0                0.0                 0.0   \n",
       "9               0.0                0.0                 0.0   \n",
       "\n",
       "   absolutely enthral  absolutely ludicrous  ...  yastreblyansky  \\\n",
       "0                 0.0                   0.0  ...             0.0   \n",
       "1                 0.0                   0.0  ...             0.0   \n",
       "2                 0.0                   0.0  ...             0.0   \n",
       "3                 0.0                   0.0  ...             0.0   \n",
       "4                 0.0                   0.0  ...             0.0   \n",
       "5                 0.0                   0.0  ...             0.0   \n",
       "6                 0.0                   0.0  ...             0.0   \n",
       "7                 0.0                   0.0  ...             0.0   \n",
       "8                 0.0                   0.0  ...             0.0   \n",
       "9                 0.0                   0.0  ...             0.0   \n",
       "\n",
       "   yeah impress  yeah scar      year  year strange  yes dont  yet curious  \\\n",
       "0           0.0        0.0  0.000000           0.0       0.0          0.0   \n",
       "1           0.0        0.0  0.000000           0.0       0.0          0.0   \n",
       "2           0.0        0.0  0.000000           0.0       0.0          0.0   \n",
       "3           0.0        0.0  0.000000           0.0       0.0          0.0   \n",
       "4           0.0        0.0  0.000000           0.0       0.0          0.0   \n",
       "5           0.0        0.0  0.000000           0.0       0.0          0.0   \n",
       "6           0.0        0.0  0.000000           0.0       0.0          0.0   \n",
       "7           0.0        0.0  0.118731           0.0       0.0          0.0   \n",
       "8           0.0        0.0  0.000000           0.0       0.0          0.0   \n",
       "9           0.0        0.0  0.000000           0.0       0.0          0.0   \n",
       "\n",
       "   yet proud  youll pleasantly  youre funny  \n",
       "0        0.0               0.0          0.0  \n",
       "1        0.0               0.0          0.0  \n",
       "2        0.0               0.0          0.0  \n",
       "3        0.0               0.0          0.0  \n",
       "4        0.0               0.0          0.0  \n",
       "5        0.0               0.0          0.0  \n",
       "6        0.0               0.0          0.0  \n",
       "7        0.0               0.0          0.0  \n",
       "8        0.0               0.0          0.0  \n",
       "9        0.0               0.0          0.0  \n",
       "\n",
       "[10 rows x 4500 columns]"
      ]
     },
     "execution_count": 32,
     "metadata": {},
     "output_type": "execute_result"
    }
   ],
   "source": [
    "pd.DataFrame(\n",
    "  selector_sentiment.transform(vectorizer.transform(x_sentiment_train))[:10].toarray(),\n",
    "  columns=np.array(vectorizer.get_feature_names_out())[np.array(selector_sentiment.get_support())], )"
   ]
  },
  {
   "cell_type": "markdown",
   "metadata": {},
   "source": [
    "Model evaluation visualizer"
   ]
  },
  {
   "cell_type": "code",
   "execution_count": 33,
   "metadata": {},
   "outputs": [],
   "source": [
    "def visualize_model_evaluation(\n",
    "  data=None, x=None, y=None, \n",
    "  palette=palette_a1, height=5, \n",
    "  title=' ', subtitle=' ', description=' ', \n",
    "  classification_report=' '):\n",
    "  \n",
    "  sns.set(style = 'whitegrid')\n",
    "\n",
    "  sns.set(\n",
    "    style='whitegrid',\n",
    "    rc={'figure.figsize': (13,height)}, )\n",
    "\n",
    "  g=sns.countplot(\n",
    "    data=data, y=y,\n",
    "    palette=palette, \n",
    "    hue=y,\n",
    "    legend=False, )\n",
    "\n",
    "  g.set_ylabel(' \\n\\n')\n",
    "  g.set_xlabel(' \\n\\n\\n\\n')\n",
    "\n",
    "  g.set_title(\n",
    "    f'\\n\\n\\n{title}\\n\\n'.upper(),\n",
    "    loc='left',\n",
    "    fontdict=dict(\n",
    "      fontsize=16,\n",
    "      fontweight='bold', ), )\n",
    "\n",
    "  g.set_yticks(g.get_yticks())\n",
    "  g.set_yticklabels(\n",
    "    [tick_label.get_text().title() for tick_label in g.get_yticklabels()],\n",
    "    fontdict=dict(\n",
    "      fontsize=14,\n",
    "      fontweight='medium', ), )\n",
    "\n",
    "  g.set_xticks(g.get_xticks())\n",
    "  g.set_xticklabels(\n",
    "    [tick_label.get_text().title() for tick_label in g.get_xticklabels()],\n",
    "    fontdict=dict(\n",
    "      fontsize=14,\n",
    "      fontweight='medium', ), )\n",
    "\n",
    "  plt.text(\n",
    "    s=f'{subtitle}',\n",
    "    alpha=0.5, x=0, y=1.05,\n",
    "    horizontalalignment='left',\n",
    "    transform=g.transAxes, )\n",
    "\n",
    "  plt.text(\n",
    "    s=f'{description}',\n",
    "    alpha=0.5, x=0, y=-.18,\n",
    "    verticalalignment='baseline',\n",
    "    horizontalalignment='left',\n",
    "    transform=g.transAxes, )\n",
    "\n",
    "  for container in g.containers:\n",
    "    labels = g.bar_label(\n",
    "      container=container,\n",
    "      padding=10,\n",
    "      fmt=lambda x: f'{x / len(data) * 100:.1f}%', )\n",
    "    \n",
    "    for label in labels:\n",
    "      label.set_fontsize(14)\n",
    "      label.set_fontweight('bold') \n",
    "\n",
    "  plt.text(\n",
    "    s=' ', x=1.7, y=1,\n",
    "    transform=g.transAxes, )\n",
    "  \n",
    "  plt.text(\n",
    "    s=classification_report.upper(), x=1.1, y=0.25,\n",
    "    alpha=0.8, transform=g.transAxes,\n",
    "    fontdict=dict(fontfamily='monospace'))\n",
    "\n",
    "  sns.despine()\n",
    "\n",
    "  return g"
   ]
  },
  {
   "cell_type": "markdown",
   "metadata": {},
   "source": [
    "#### Training the sentiment classifier"
   ]
  },
  {
   "cell_type": "code",
   "execution_count": 34,
   "metadata": {},
   "outputs": [],
   "source": [
    "model_sentiment = MultinomialNB()"
   ]
  },
  {
   "cell_type": "markdown",
   "metadata": {},
   "source": [
    "Grid search and cross validation hyperparameter tuning to select the best parameters and yield better accuracy"
   ]
  },
  {
   "cell_type": "code",
   "execution_count": 35,
   "metadata": {},
   "outputs": [
    {
     "data": {
      "text/plain": [
       "{'alpha': 0.02}"
      ]
     },
     "execution_count": 35,
     "metadata": {},
     "output_type": "execute_result"
    }
   ],
   "source": [
    "gridsearch_model_sentiment = GridSearchCV(\n",
    "  estimator=model_sentiment,\n",
    "  param_grid={'alpha': [0.02, 0.05, 0.1, 0.2, 0.3, 0.4, 0.8, 0.9, 1.0, 1.1, 1.2]},\n",
    "  cv=5,\n",
    "  scoring='accuracy', )\n",
    "\n",
    "gridsearch_model_sentiment.fit(\n",
    "  x_sentiment_train_selected, \n",
    "  y_sentiment_train, )\n",
    "\n",
    "gridsearch_model_sentiment.best_params_"
   ]
  },
  {
   "cell_type": "code",
   "execution_count": 36,
   "metadata": {},
   "outputs": [
    {
     "data": {
      "text/plain": [
       "np.float64(0.9412173222535307)"
      ]
     },
     "execution_count": 36,
     "metadata": {},
     "output_type": "execute_result"
    }
   ],
   "source": [
    "gridsearch_model_sentiment.best_score_"
   ]
  },
  {
   "cell_type": "code",
   "execution_count": 37,
   "metadata": {},
   "outputs": [],
   "source": [
    "model_sentiment = gridsearch_model_sentiment.best_estimator_"
   ]
  },
  {
   "cell_type": "code",
   "execution_count": 38,
   "metadata": {},
   "outputs": [],
   "source": [
    "df_sentiment_results = pd.DataFrame({\n",
    "  'actual_value': y_sentiment_test,\n",
    "  'predicted_value': model_sentiment.predict(x_sentiment_test_selected)\n",
    "})\n",
    "\n",
    "df_sentiment_results['classification'] = df_sentiment_results.apply(\n",
    "  lambda x:\n",
    "    'true positive' if x['actual_value'] == 1 and x['predicted_value'] == 1 else\n",
    "    'true negative' if x['actual_value'] == 0 and x['predicted_value'] == 0 else\n",
    "    'true neutral' if x['actual_value'] == 2 and x['predicted_value'] == 2 else\n",
    "    'false positive' if x['actual_value'] != 1 and x['predicted_value'] == 1 else\n",
    "    'false negative' if x['actual_value'] != 0 and x['predicted_value'] == 0 else\n",
    "    'false neutral' if x['actual_value'] != 2 and x['predicted_value'] == 2 else\n",
    "    None\n",
    "  , axis=1\n",
    ")"
   ]
  },
  {
   "cell_type": "markdown",
   "metadata": {},
   "source": [
    "Visualize model evaluation"
   ]
  },
  {
   "cell_type": "code",
   "execution_count": 39,
   "metadata": {},
   "outputs": [
    {
     "data": {
      "image/png": "[encoded data removed]",
      "text/plain": [
       "<Figure size 1300x500 with 1 Axes>"
      ]
     },
     "metadata": {},
     "output_type": "display_data"
    }
   ],
   "source": [
    "classification_report_model_sentiment = classification_report(\n",
    "  df_sentiment_results['actual_value'], \n",
    "  df_sentiment_results['predicted_value'], )\n",
    "\n",
    "visualize_model_evaluation(\n",
    "  data=df_sentiment_results, y='classification',\n",
    "  title='Sentiment classification using multinomial naive bayes classifier: model evaluation',\n",
    "  height=5, palette=palette_a1, \n",
    "  classification_report=classification_report_model_sentiment, );"
   ]
  },
  {
   "cell_type": "code",
   "execution_count": 40,
   "metadata": {},
   "outputs": [
    {
     "data": {
      "text/plain": [
       "array([1, 1, 1, 1, 0, 1, 1, 1, 0, 0])"
      ]
     },
     "execution_count": 40,
     "metadata": {},
     "output_type": "execute_result"
    }
   ],
   "source": [
    "response_list = [\n",
    "  \"I believe online anonymity encourages more honest and open communication, allowing users to express their true opinions\",\n",
    "  \"In my view, online anonymity can lead to a significant increase in negative behaviors, such as trolling and cyberbullying, because users feel shielded from accountability.\",\n",
    "  \"I think anonymity provides a double-edged sword; while it allows for free expression, it also creates an environment where people may engage in harmful or deceitful actions.\",\n",
    "  \"Online anonymity empowers marginalized voices to speak out, but it also makes it difficult to identify and address harmful content effectively.\",\n",
    "  \"I see online anonymity as a critical factor in fostering diverse discussions, but it also contributes to the spread of misinformation, as sources cannot always be verified.\",\n",
    "  \"I think that online anonymity can lead to more genuine interactions in certain communities, but it may also reduce the quality of discourse by enabling users to avoid responsibility for their words.\",\n",
    "  \"Anonymity online is essential for privacy, but it can also encourage users to engage in behavior they might avoid if their identity were known.\",\n",
    "  \"In my opinion, the impact of online anonymity is largely context-dependent; it can promote both positive and negative behaviors depending on the platform and community norms.\",\n",
    "  \"I believe online anonymity amplifies both the best and worst aspects of human behavior, providing a space for both creativity and cruelty.\",\n",
    "  \"I think online anonymity allows people to connect more authentically, but it can also lead to a lack of trust and credibility in online interactions.\"\n",
    "]\n",
    "\n",
    "test = (pd.DataFrame({'text': response_list})\n",
    "  .pipe(denoiser)\n",
    "  .pipe(stopwords_remover)\n",
    "  .pipe(null_content_observation_remover)\n",
    "  .pipe(lemmatizer))\n",
    "\n",
    "model_sentiment.predict(\n",
    "  Transformer(test['text'])\n",
    "  .vectorizer()\n",
    "  .selector(selector_sentiment)\n",
    "  .get_value())\n"
   ]
  },
  {
   "cell_type": "markdown",
   "metadata": {},
   "source": [
    "#### Training the emotion classifier"
   ]
  },
  {
   "cell_type": "code",
   "execution_count": 41,
   "metadata": {},
   "outputs": [],
   "source": [
    "model_emotion = MultinomialNB()"
   ]
  },
  {
   "cell_type": "markdown",
   "metadata": {},
   "source": [
    "Grid search and cross validation hyperparameter tuning to select the best parameters and yield better accuracy"
   ]
  },
  {
   "cell_type": "code",
   "execution_count": 42,
   "metadata": {},
   "outputs": [
    {
     "data": {
      "text/plain": [
       "{'alpha': 0.02}"
      ]
     },
     "execution_count": 42,
     "metadata": {},
     "output_type": "execute_result"
    }
   ],
   "source": [
    "gridsearch_model_emotion = GridSearchCV(\n",
    "  estimator=model_emotion,\n",
    "  param_grid={'alpha': [0.02, 0.05, 0.1, 0.2, 0.3, 0.4, 0.8, 0.9, 1.0, 1.1, 1.2]},\n",
    "  cv=5,\n",
    "  scoring='accuracy', )\n",
    "\n",
    "gridsearch_model_emotion.fit(\n",
    "  x_emotion_train_selected, \n",
    "  y_emotion_train, )\n",
    "\n",
    "gridsearch_model_emotion.best_params_"
   ]
  },
  {
   "cell_type": "code",
   "execution_count": 43,
   "metadata": {},
   "outputs": [
    {
     "data": {
      "text/plain": [
       "np.float64(0.8467613146065893)"
      ]
     },
     "execution_count": 43,
     "metadata": {},
     "output_type": "execute_result"
    }
   ],
   "source": [
    "gridsearch_model_emotion.best_score_"
   ]
  },
  {
   "cell_type": "code",
   "execution_count": 44,
   "metadata": {},
   "outputs": [],
   "source": [
    "model_emotion = gridsearch_model_emotion.best_estimator_"
   ]
  },
  {
   "cell_type": "code",
   "execution_count": 45,
   "metadata": {},
   "outputs": [],
   "source": [
    "df_emotion_results = pd.DataFrame({\n",
    "  'actual_value': y_emotion_test,\n",
    "  'predicted_value': model_emotion.predict(x_emotion_test_selected)\n",
    "})\n",
    "\n",
    "df_emotion_results['classification'] = df_emotion_results.apply(\n",
    "  lambda x:\n",
    "    'true sadness' if x['actual_value'] == 0 and x['predicted_value'] == 0 else\n",
    "    'true joy' if x['actual_value'] == 1 and x['predicted_value'] == 1 else\n",
    "    'true love' if x['actual_value'] == 2 and x['predicted_value'] == 2 else\n",
    "    'true anger' if x['actual_value'] == 3 and x['predicted_value'] == 3 else\n",
    "    'true fear' if x['actual_value'] == 4 and x['predicted_value'] == 4 else\n",
    "    'true surprised' if x['actual_value'] == 5 and x['predicted_value'] == 5 else\n",
    "    'false sadness' if x['actual_value'] != 0 and x['predicted_value'] == 0 else\n",
    "    'false joy' if x['actual_value'] != 1 and x['predicted_value'] == 1 else\n",
    "    'false love' if x['actual_value'] != 2 and x['predicted_value'] == 2 else\n",
    "    'false anger' if x['actual_value'] != 3 and x['predicted_value'] == 3 else\n",
    "    'false fear' if x['actual_value'] != 4 and x['predicted_value'] == 4 else\n",
    "    'false surprised' if x['actual_value'] != 5 and x['predicted_value'] == 5 else\n",
    "    None\n",
    "  , axis=1\n",
    ")"
   ]
  },
  {
   "cell_type": "code",
   "execution_count": 46,
   "metadata": {},
   "outputs": [
    {
     "data": {
      "image/png": "[encoded data removed]",
      "text/plain": [
       "<Figure size 1300x500 with 1 Axes>"
      ]
     },
     "metadata": {},
     "output_type": "display_data"
    }
   ],
   "source": [
    "classification_report_model_emotion = classification_report(\n",
    "  df_emotion_results['actual_value'], \n",
    "  df_emotion_results['predicted_value'], )\n",
    "\n",
    "visualize_model_evaluation(\n",
    "  data=df_emotion_results, y='classification',\n",
    "  title='Emotion classification using multinomial naive bayes classifier: model evaluation',\n",
    "  height=5, palette=palette_a1, \n",
    "  classification_report=classification_report_model_emotion, );"
   ]
  },
  {
   "cell_type": "code",
   "execution_count": 47,
   "metadata": {},
   "outputs": [
    {
     "data": {
      "text/plain": [
       "array([1, 1, 1, 1, 1, 1, 1, 1, 0, 1])"
      ]
     },
     "execution_count": 47,
     "metadata": {},
     "output_type": "execute_result"
    }
   ],
   "source": [
    "response_list = [\n",
    "  \"I believe online anonymity encourages more honest and open communication, allowing users to express their true opinions\",\n",
    "  \"In my view, online anonymity can lead to a significant increase in negative behaviors, such as trolling and cyberbullying, because users feel shielded from accountability.\",\n",
    "  \"I think anonymity provides a double-edged sword; while it allows for free expression, it also creates an environment where people may engage in harmful or deceitful actions.\",\n",
    "  \"Online anonymity empowers marginalized voices to speak out, but it also makes it difficult to identify and address harmful content effectively.\",\n",
    "  \"I see online anonymity as a critical factor in fostering diverse discussions, but it also contributes to the spread of misinformation, as sources cannot always be verified.\",\n",
    "  \"I think that online anonymity can lead to more genuine interactions in certain communities, but it may also reduce the quality of discourse by enabling users to avoid responsibility for their words.\",\n",
    "  \"Anonymity online is essential for privacy, but it can also encourage users to engage in behavior they might avoid if their identity were known.\",\n",
    "  \"In my opinion, the impact of online anonymity is largely context-dependent; it can promote both positive and negative behaviors depending on the platform and community norms.\",\n",
    "  \"I believe online anonymity amplifies both the best and worst aspects of human behavior, providing a space for both creativity and cruelty.\",\n",
    "  \"I think online anonymity allows people to connect more authentically, but it can also lead to a lack of trust and credibility in online interactions.\"\n",
    "]\n",
    "\n",
    "test = (pd.DataFrame({'text': response_list})\n",
    "  .pipe(denoiser)\n",
    "  .pipe(stopwords_remover)\n",
    "  .pipe(null_content_observation_remover)\n",
    "  .pipe(lemmatizer))\n",
    "\n",
    "model_emotion.predict(\n",
    "  Transformer(test['text'])\n",
    "  .vectorizer()\n",
    "  .selector(selector_emotion)\n",
    "  .get_value())\n"
   ]
  },
  {
   "cell_type": "markdown",
   "metadata": {},
   "source": [
    "Saving the vectorizer, selector, and model locally"
   ]
  },
  {
   "cell_type": "code",
   "execution_count": 49,
   "metadata": {},
   "outputs": [],
   "source": [
    "with open('pkl/tfidf_vectorizer.pkl', 'wb') as file:\n",
    "  pickle.dump(vectorizer, file)\n",
    "  \n",
    "with open('pkl/selector_sentiment.pkl', 'wb') as file:\n",
    "  pickle.dump(selector_sentiment, file)\n",
    "  \n",
    "with open('pkl/selector_emotion.pkl', 'wb') as file:\n",
    "  pickle.dump(selector_emotion, file)\n",
    "  \n",
    "with open('pkl/model_sentiment.pkl', 'wb') as file:\n",
    "  pickle.dump(model_sentiment, file)\n",
    "  \n",
    "with open('pkl/model_emotion.pkl', 'wb') as file:\n",
    "  pickle.dump(model_emotion, file)"
   ]
  }
 ],
 "metadata": {
  "kernelspec": {
   "display_name": ".venv",
   "language": "python",
   "name": "python3"
  },
  "language_info": {
   "codemirror_mode": {
    "name": "ipython",
    "version": 3
   },
   "file_extension": ".py",
   "mimetype": "text/x-python",
   "name": "python",
   "nbconvert_exporter": "python",
   "pygments_lexer": "ipython3",
   "version": "3.11.5"
  }
 },
 "nbformat": 4,
 "nbformat_minor": 2
}
