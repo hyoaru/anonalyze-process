{
 "cells": [
  {
   "cell_type": "markdown",
   "metadata": {},
   "source": [
    "# Sentiment and Emotion Classification Model Training\n",
    "Using dataset from kaggle consisting of `416,809 observations` of labeled text content from twitter\n",
    "<br>\n",
    "Kaggle dataset url: [https://www.kaggle.com/datasets/nelgiriyewithana/emotions](https://www.kaggle.com/datasets/nelgiriyewithana/emotions)\n",
    "\n",
    "**About the dataset**\n",
    "<br>\n",
    "Each entry in this dataset consists of a text segment representing a Twitter message and a corresponding label indicating the predominant emotion conveyed. The emotions are classified into six categories: sadness (0), joy (1), love (2), anger (3), fear (4), and surprise (5). This dataset provides a rich foundation for exploring the nuanced emotional landscape within the realm of social media.\n",
    "\n",
    "**Dataset features**\n",
    "* text: twitter text content\n",
    "* label: emotion classification\n",
    "  * sadness (0), \n",
    "  * joy (1), \n",
    "  * love (2), \n",
    "  * anger (3), \n",
    "  * fear (4), \n",
    "  * and surprise (5). "
   ]
  },
  {
   "cell_type": "markdown",
   "metadata": {},
   "source": [
    "## Initialization"
   ]
  },
  {
   "cell_type": "code",
   "execution_count": 293,
   "metadata": {},
   "outputs": [],
   "source": [
    "import numpy as np\n",
    "import pandas as pd\n",
    "import seaborn as sns\n",
    "import nltk\n",
    "import re\n",
    "import os\n",
    "\n",
    "from nltk import pos_tag\n",
    "from nltk.corpus import stopwords, wordnet\n",
    "from nltk.stem import WordNetLemmatizer\n",
    "from nltk.tokenize import WordPunctTokenizer\n",
    "\n",
    "from sklearn.model_selection import train_test_split\n",
    "from sklearn.feature_extraction.text import TfidfVectorizer\n",
    "from sklearn.metrics import confusion_matrix, classification_report\n",
    "from sklearn.naive_bayes import MultinomialNB\n",
    "from sklearn.pipeline import Pipeline\n",
    "from sklearn.model_selection import GridSearchCV\n",
    "from sklearn.feature_selection import SelectKBest, chi2"
   ]
  },
  {
   "cell_type": "code",
   "execution_count": 294,
   "metadata": {},
   "outputs": [
    {
     "name": "stderr",
     "output_type": "stream",
     "text": [
      "[nltk_data] Downloading package stopwords to\n",
      "[nltk_data]     /home/cabrera/nltk_data...\n",
      "[nltk_data]   Package stopwords is already up-to-date!\n",
      "[nltk_data] Downloading package wordnet to /home/cabrera/nltk_data...\n",
      "[nltk_data]   Package wordnet is already up-to-date!\n",
      "[nltk_data] Downloading package punkt to /home/cabrera/nltk_data...\n",
      "[nltk_data]   Package punkt is already up-to-date!\n",
      "[nltk_data] Downloading package punkt_tab to\n",
      "[nltk_data]     /home/cabrera/nltk_data...\n",
      "[nltk_data]   Package punkt_tab is already up-to-date!\n",
      "[nltk_data] Downloading package omw-1.4 to /home/cabrera/nltk_data...\n",
      "[nltk_data]   Package omw-1.4 is already up-to-date!\n",
      "[nltk_data] Downloading package averaged_perceptron_tagger to\n",
      "[nltk_data]     /home/cabrera/nltk_data...\n",
      "[nltk_data]   Package averaged_perceptron_tagger is already up-to-\n",
      "[nltk_data]       date!\n",
      "[nltk_data] Downloading package averaged_perceptron_tagger_eng to\n",
      "[nltk_data]     /home/cabrera/nltk_data...\n",
      "[nltk_data]   Package averaged_perceptron_tagger_eng is already up-to-\n",
      "[nltk_data]       date!\n"
     ]
    }
   ],
   "source": [
    "%%capture\n",
    "nltk.download('stopwords')\n",
    "nltk.download('wordnet')\n",
    "nltk.download('punkt')\n",
    "nltk.download('punkt_tab')\n",
    "nltk.download('omw-1.4')\n",
    "nltk.download('averaged_perceptron_tagger')\n",
    "nltk.download('averaged_perceptron_tagger_eng')"
   ]
  },
  {
   "cell_type": "markdown",
   "metadata": {},
   "source": [
    "Loading the data"
   ]
  },
  {
   "cell_type": "code",
   "execution_count": 295,
   "metadata": {},
   "outputs": [
    {
     "data": {
      "text/html": [
       "<div>\n",
       "<style scoped>\n",
       "    .dataframe tbody tr th:only-of-type {\n",
       "        vertical-align: middle;\n",
       "    }\n",
       "\n",
       "    .dataframe tbody tr th {\n",
       "        vertical-align: top;\n",
       "    }\n",
       "\n",
       "    .dataframe thead th {\n",
       "        text-align: right;\n",
       "    }\n",
       "</style>\n",
       "<table border=\"1\" class=\"dataframe\">\n",
       "  <thead>\n",
       "    <tr style=\"text-align: right;\">\n",
       "      <th></th>\n",
       "      <th>text</th>\n",
       "      <th>label</th>\n",
       "    </tr>\n",
       "  </thead>\n",
       "  <tbody>\n",
       "    <tr>\n",
       "      <th>0</th>\n",
       "      <td>i just feel really helpless and heavy hearted</td>\n",
       "      <td>4</td>\n",
       "    </tr>\n",
       "    <tr>\n",
       "      <th>1</th>\n",
       "      <td>ive enjoyed being able to slouch about relax a...</td>\n",
       "      <td>0</td>\n",
       "    </tr>\n",
       "    <tr>\n",
       "      <th>2</th>\n",
       "      <td>i gave up my internship with the dmrg and am f...</td>\n",
       "      <td>4</td>\n",
       "    </tr>\n",
       "    <tr>\n",
       "      <th>3</th>\n",
       "      <td>i dont know i feel so lost</td>\n",
       "      <td>0</td>\n",
       "    </tr>\n",
       "    <tr>\n",
       "      <th>4</th>\n",
       "      <td>i am a kindergarten teacher and i am thoroughl...</td>\n",
       "      <td>4</td>\n",
       "    </tr>\n",
       "  </tbody>\n",
       "</table>\n",
       "</div>"
      ],
      "text/plain": [
       "                                                text  label\n",
       "0      i just feel really helpless and heavy hearted      4\n",
       "1  ive enjoyed being able to slouch about relax a...      0\n",
       "2  i gave up my internship with the dmrg and am f...      4\n",
       "3                         i dont know i feel so lost      0\n",
       "4  i am a kindergarten teacher and i am thoroughl...      4"
      ]
     },
     "execution_count": 295,
     "metadata": {},
     "output_type": "execute_result"
    }
   ],
   "source": [
    "df = pd.read_csv('data/dataset.csv', index_col=0)\n",
    "\n",
    "df.head()"
   ]
  },
  {
   "cell_type": "markdown",
   "metadata": {},
   "source": [
    "Getting the label distribution"
   ]
  },
  {
   "cell_type": "code",
   "execution_count": 296,
   "metadata": {},
   "outputs": [
    {
     "data": {
      "text/plain": [
       "label\n",
       "0    121187\n",
       "1    141067\n",
       "2     34554\n",
       "3     57317\n",
       "4     47712\n",
       "5     14972\n",
       "Name: count, dtype: int64"
      ]
     },
     "execution_count": 296,
     "metadata": {},
     "output_type": "execute_result"
    }
   ],
   "source": [
    "df['label'].value_counts().sort_index()"
   ]
  },
  {
   "cell_type": "markdown",
   "metadata": {},
   "source": [
    "Renaming the attribute name from label -> emotion_label"
   ]
  },
  {
   "cell_type": "code",
   "execution_count": 297,
   "metadata": {},
   "outputs": [
    {
     "data": {
      "text/html": [
       "<div>\n",
       "<style scoped>\n",
       "    .dataframe tbody tr th:only-of-type {\n",
       "        vertical-align: middle;\n",
       "    }\n",
       "\n",
       "    .dataframe tbody tr th {\n",
       "        vertical-align: top;\n",
       "    }\n",
       "\n",
       "    .dataframe thead th {\n",
       "        text-align: right;\n",
       "    }\n",
       "</style>\n",
       "<table border=\"1\" class=\"dataframe\">\n",
       "  <thead>\n",
       "    <tr style=\"text-align: right;\">\n",
       "      <th></th>\n",
       "      <th>text</th>\n",
       "      <th>emotion_label</th>\n",
       "    </tr>\n",
       "  </thead>\n",
       "  <tbody>\n",
       "    <tr>\n",
       "      <th>0</th>\n",
       "      <td>i just feel really helpless and heavy hearted</td>\n",
       "      <td>4</td>\n",
       "    </tr>\n",
       "    <tr>\n",
       "      <th>1</th>\n",
       "      <td>ive enjoyed being able to slouch about relax a...</td>\n",
       "      <td>0</td>\n",
       "    </tr>\n",
       "    <tr>\n",
       "      <th>2</th>\n",
       "      <td>i gave up my internship with the dmrg and am f...</td>\n",
       "      <td>4</td>\n",
       "    </tr>\n",
       "    <tr>\n",
       "      <th>3</th>\n",
       "      <td>i dont know i feel so lost</td>\n",
       "      <td>0</td>\n",
       "    </tr>\n",
       "    <tr>\n",
       "      <th>4</th>\n",
       "      <td>i am a kindergarten teacher and i am thoroughl...</td>\n",
       "      <td>4</td>\n",
       "    </tr>\n",
       "  </tbody>\n",
       "</table>\n",
       "</div>"
      ],
      "text/plain": [
       "                                                text  emotion_label\n",
       "0      i just feel really helpless and heavy hearted              4\n",
       "1  ive enjoyed being able to slouch about relax a...              0\n",
       "2  i gave up my internship with the dmrg and am f...              4\n",
       "3                         i dont know i feel so lost              0\n",
       "4  i am a kindergarten teacher and i am thoroughl...              4"
      ]
     },
     "execution_count": 297,
     "metadata": {},
     "output_type": "execute_result"
    }
   ],
   "source": [
    "df.rename(columns={\n",
    "  'label': 'emotion_label'\n",
    "}, inplace=True)\n",
    "\n",
    "df.head()"
   ]
  },
  {
   "cell_type": "markdown",
   "metadata": {},
   "source": [
    "Adding emotion_label_description attribute"
   ]
  },
  {
   "cell_type": "code",
   "execution_count": 298,
   "metadata": {},
   "outputs": [],
   "source": [
    "emotion_label_description_map = {\n",
    "  0: 'sadness',\n",
    "  1: 'joy',\n",
    "  2: 'love',\n",
    "  3: 'anger',\n",
    "  4: 'fear',\n",
    "  5: 'surprised',\n",
    "}"
   ]
  },
  {
   "cell_type": "code",
   "execution_count": 299,
   "metadata": {},
   "outputs": [
    {
     "data": {
      "text/html": [
       "<div>\n",
       "<style scoped>\n",
       "    .dataframe tbody tr th:only-of-type {\n",
       "        vertical-align: middle;\n",
       "    }\n",
       "\n",
       "    .dataframe tbody tr th {\n",
       "        vertical-align: top;\n",
       "    }\n",
       "\n",
       "    .dataframe thead th {\n",
       "        text-align: right;\n",
       "    }\n",
       "</style>\n",
       "<table border=\"1\" class=\"dataframe\">\n",
       "  <thead>\n",
       "    <tr style=\"text-align: right;\">\n",
       "      <th></th>\n",
       "      <th>text</th>\n",
       "      <th>emotion_label</th>\n",
       "      <th>emotion_label_description</th>\n",
       "    </tr>\n",
       "  </thead>\n",
       "  <tbody>\n",
       "    <tr>\n",
       "      <th>0</th>\n",
       "      <td>i just feel really helpless and heavy hearted</td>\n",
       "      <td>4</td>\n",
       "      <td>fear</td>\n",
       "    </tr>\n",
       "    <tr>\n",
       "      <th>1</th>\n",
       "      <td>ive enjoyed being able to slouch about relax a...</td>\n",
       "      <td>0</td>\n",
       "      <td>sadness</td>\n",
       "    </tr>\n",
       "    <tr>\n",
       "      <th>2</th>\n",
       "      <td>i gave up my internship with the dmrg and am f...</td>\n",
       "      <td>4</td>\n",
       "      <td>fear</td>\n",
       "    </tr>\n",
       "    <tr>\n",
       "      <th>3</th>\n",
       "      <td>i dont know i feel so lost</td>\n",
       "      <td>0</td>\n",
       "      <td>sadness</td>\n",
       "    </tr>\n",
       "    <tr>\n",
       "      <th>4</th>\n",
       "      <td>i am a kindergarten teacher and i am thoroughl...</td>\n",
       "      <td>4</td>\n",
       "      <td>fear</td>\n",
       "    </tr>\n",
       "  </tbody>\n",
       "</table>\n",
       "</div>"
      ],
      "text/plain": [
       "                                                text  emotion_label  \\\n",
       "0      i just feel really helpless and heavy hearted              4   \n",
       "1  ive enjoyed being able to slouch about relax a...              0   \n",
       "2  i gave up my internship with the dmrg and am f...              4   \n",
       "3                         i dont know i feel so lost              0   \n",
       "4  i am a kindergarten teacher and i am thoroughl...              4   \n",
       "\n",
       "  emotion_label_description  \n",
       "0                      fear  \n",
       "1                   sadness  \n",
       "2                      fear  \n",
       "3                   sadness  \n",
       "4                      fear  "
      ]
     },
     "execution_count": 299,
     "metadata": {},
     "output_type": "execute_result"
    }
   ],
   "source": [
    "df['emotion_label_description'] = df['emotion_label'].apply(lambda label: emotion_label_description_map.get(label))\n",
    "\n",
    "df.head()"
   ]
  },
  {
   "cell_type": "markdown",
   "metadata": {},
   "source": [
    "Adding another attribute called `sentiment_label` and mapping it according to emotion label with the following condition when equating to:\n",
    "* [0] negative: [sadness (0), anger (3), fear (4)]\n",
    "* [1] positive: [joy (1), love (2)]\n",
    "* [2] neutral: [surprised (5)]"
   ]
  },
  {
   "cell_type": "code",
   "execution_count": 300,
   "metadata": {},
   "outputs": [
    {
     "data": {
      "text/html": [
       "<div>\n",
       "<style scoped>\n",
       "    .dataframe tbody tr th:only-of-type {\n",
       "        vertical-align: middle;\n",
       "    }\n",
       "\n",
       "    .dataframe tbody tr th {\n",
       "        vertical-align: top;\n",
       "    }\n",
       "\n",
       "    .dataframe thead th {\n",
       "        text-align: right;\n",
       "    }\n",
       "</style>\n",
       "<table border=\"1\" class=\"dataframe\">\n",
       "  <thead>\n",
       "    <tr style=\"text-align: right;\">\n",
       "      <th></th>\n",
       "      <th>text</th>\n",
       "      <th>emotion_label</th>\n",
       "      <th>emotion_label_description</th>\n",
       "      <th>sentiment_label</th>\n",
       "    </tr>\n",
       "  </thead>\n",
       "  <tbody>\n",
       "    <tr>\n",
       "      <th>0</th>\n",
       "      <td>i just feel really helpless and heavy hearted</td>\n",
       "      <td>4</td>\n",
       "      <td>fear</td>\n",
       "      <td>0</td>\n",
       "    </tr>\n",
       "    <tr>\n",
       "      <th>1</th>\n",
       "      <td>ive enjoyed being able to slouch about relax a...</td>\n",
       "      <td>0</td>\n",
       "      <td>sadness</td>\n",
       "      <td>0</td>\n",
       "    </tr>\n",
       "    <tr>\n",
       "      <th>2</th>\n",
       "      <td>i gave up my internship with the dmrg and am f...</td>\n",
       "      <td>4</td>\n",
       "      <td>fear</td>\n",
       "      <td>0</td>\n",
       "    </tr>\n",
       "    <tr>\n",
       "      <th>3</th>\n",
       "      <td>i dont know i feel so lost</td>\n",
       "      <td>0</td>\n",
       "      <td>sadness</td>\n",
       "      <td>0</td>\n",
       "    </tr>\n",
       "    <tr>\n",
       "      <th>4</th>\n",
       "      <td>i am a kindergarten teacher and i am thoroughl...</td>\n",
       "      <td>4</td>\n",
       "      <td>fear</td>\n",
       "      <td>0</td>\n",
       "    </tr>\n",
       "  </tbody>\n",
       "</table>\n",
       "</div>"
      ],
      "text/plain": [
       "                                                text  emotion_label  \\\n",
       "0      i just feel really helpless and heavy hearted              4   \n",
       "1  ive enjoyed being able to slouch about relax a...              0   \n",
       "2  i gave up my internship with the dmrg and am f...              4   \n",
       "3                         i dont know i feel so lost              0   \n",
       "4  i am a kindergarten teacher and i am thoroughl...              4   \n",
       "\n",
       "  emotion_label_description  sentiment_label  \n",
       "0                      fear                0  \n",
       "1                   sadness                0  \n",
       "2                      fear                0  \n",
       "3                   sadness                0  \n",
       "4                      fear                0  "
      ]
     },
     "execution_count": 300,
     "metadata": {},
     "output_type": "execute_result"
    }
   ],
   "source": [
    "df['sentiment_label'] = df['emotion_label'].apply(lambda label: 0 if label in [0, 3, 4] else 1 if label in [1, 2] else 2)\n",
    "\n",
    "df.head()"
   ]
  },
  {
   "cell_type": "markdown",
   "metadata": {},
   "source": [
    "Adding sentiment_label_description attribute"
   ]
  },
  {
   "cell_type": "code",
   "execution_count": 301,
   "metadata": {},
   "outputs": [],
   "source": [
    "sentiment_label_description_map = {\n",
    "  0: 'negative',\n",
    "  1: 'positive',\n",
    "  2: 'neutral'\n",
    "}"
   ]
  },
  {
   "cell_type": "code",
   "execution_count": 302,
   "metadata": {},
   "outputs": [
    {
     "data": {
      "text/html": [
       "<div>\n",
       "<style scoped>\n",
       "    .dataframe tbody tr th:only-of-type {\n",
       "        vertical-align: middle;\n",
       "    }\n",
       "\n",
       "    .dataframe tbody tr th {\n",
       "        vertical-align: top;\n",
       "    }\n",
       "\n",
       "    .dataframe thead th {\n",
       "        text-align: right;\n",
       "    }\n",
       "</style>\n",
       "<table border=\"1\" class=\"dataframe\">\n",
       "  <thead>\n",
       "    <tr style=\"text-align: right;\">\n",
       "      <th></th>\n",
       "      <th>text</th>\n",
       "      <th>emotion_label</th>\n",
       "      <th>emotion_label_description</th>\n",
       "      <th>sentiment_label</th>\n",
       "      <th>sentiment_label_description</th>\n",
       "    </tr>\n",
       "  </thead>\n",
       "  <tbody>\n",
       "    <tr>\n",
       "      <th>0</th>\n",
       "      <td>i just feel really helpless and heavy hearted</td>\n",
       "      <td>4</td>\n",
       "      <td>fear</td>\n",
       "      <td>0</td>\n",
       "      <td>negative</td>\n",
       "    </tr>\n",
       "    <tr>\n",
       "      <th>1</th>\n",
       "      <td>ive enjoyed being able to slouch about relax a...</td>\n",
       "      <td>0</td>\n",
       "      <td>sadness</td>\n",
       "      <td>0</td>\n",
       "      <td>negative</td>\n",
       "    </tr>\n",
       "    <tr>\n",
       "      <th>2</th>\n",
       "      <td>i gave up my internship with the dmrg and am f...</td>\n",
       "      <td>4</td>\n",
       "      <td>fear</td>\n",
       "      <td>0</td>\n",
       "      <td>negative</td>\n",
       "    </tr>\n",
       "    <tr>\n",
       "      <th>3</th>\n",
       "      <td>i dont know i feel so lost</td>\n",
       "      <td>0</td>\n",
       "      <td>sadness</td>\n",
       "      <td>0</td>\n",
       "      <td>negative</td>\n",
       "    </tr>\n",
       "    <tr>\n",
       "      <th>4</th>\n",
       "      <td>i am a kindergarten teacher and i am thoroughl...</td>\n",
       "      <td>4</td>\n",
       "      <td>fear</td>\n",
       "      <td>0</td>\n",
       "      <td>negative</td>\n",
       "    </tr>\n",
       "  </tbody>\n",
       "</table>\n",
       "</div>"
      ],
      "text/plain": [
       "                                                text  emotion_label  \\\n",
       "0      i just feel really helpless and heavy hearted              4   \n",
       "1  ive enjoyed being able to slouch about relax a...              0   \n",
       "2  i gave up my internship with the dmrg and am f...              4   \n",
       "3                         i dont know i feel so lost              0   \n",
       "4  i am a kindergarten teacher and i am thoroughl...              4   \n",
       "\n",
       "  emotion_label_description  sentiment_label sentiment_label_description  \n",
       "0                      fear                0                    negative  \n",
       "1                   sadness                0                    negative  \n",
       "2                      fear                0                    negative  \n",
       "3                   sadness                0                    negative  \n",
       "4                      fear                0                    negative  "
      ]
     },
     "execution_count": 302,
     "metadata": {},
     "output_type": "execute_result"
    }
   ],
   "source": [
    "df['sentiment_label_description'] = df['sentiment_label'].apply(lambda label: sentiment_label_description_map.get(label))\n",
    "\n",
    "df.head()"
   ]
  },
  {
   "cell_type": "markdown",
   "metadata": {},
   "source": [
    "Casting attributes to the right datatype"
   ]
  },
  {
   "cell_type": "code",
   "execution_count": 303,
   "metadata": {},
   "outputs": [],
   "source": [
    "category_attribute_list = ['emotion_label_description', 'sentiment_label_description']\n",
    "integer_attribute_list = ['emotion_label', 'sentiment_label']\n",
    "\n",
    "for attribute in category_attribute_list:\n",
    "  df[attribute] = df[attribute].astype('category')\n",
    "\n",
    "for attribute in integer_attribute_list:\n",
    "  df[attribute] = df[attribute].astype('int')"
   ]
  },
  {
   "cell_type": "code",
   "execution_count": 304,
   "metadata": {},
   "outputs": [
    {
     "name": "stdout",
     "output_type": "stream",
     "text": [
      "<class 'pandas.core.frame.DataFrame'>\n",
      "Index: 416809 entries, 0 to 416808\n",
      "Data columns (total 5 columns):\n",
      " #   Column                       Non-Null Count   Dtype   \n",
      "---  ------                       --------------   -----   \n",
      " 0   text                         416809 non-null  object  \n",
      " 1   emotion_label                416809 non-null  int64   \n",
      " 2   emotion_label_description    416809 non-null  category\n",
      " 3   sentiment_label              416809 non-null  int64   \n",
      " 4   sentiment_label_description  416809 non-null  category\n",
      "dtypes: category(2), int64(2), object(1)\n",
      "memory usage: 13.5+ MB\n"
     ]
    }
   ],
   "source": [
    "df.info(verbose = True, show_counts = True)"
   ]
  },
  {
   "cell_type": "markdown",
   "metadata": {},
   "source": [
    "## Execution"
   ]
  },
  {
   "cell_type": "markdown",
   "metadata": {},
   "source": [
    "### Data preprocessing\n",
    "Making a data pipeline to:\n",
    "* Denoise: removing the twitter usernames and non-alphabetical characters and stripping it of white space\n",
    "* Stopwords removal: stripping out the stopwords in the content such as `[a, an, the, and, but, or]` to improve data quality\n",
    "* Lemmatization: reducing words to their base form e.g. `[changing, changed, change] -> change`"
   ]
  },
  {
   "cell_type": "markdown",
   "metadata": {},
   "source": [
    "Removing the username and non-alphabetical characters in the content to reduce noise and improve data quality"
   ]
  },
  {
   "cell_type": "code",
   "execution_count": 305,
   "metadata": {},
   "outputs": [],
   "source": [
    "def denoiser(df: pd.DataFrame):\n",
    "  def strip(text: str):\n",
    "    text = re.sub(r'@\\w+', '', text) \n",
    "    text = re.sub(r'[^a-zA-Z ]', '', text)\n",
    "    text = re.sub(r'https\\w+', '', text)\n",
    "    text = re.sub(r'http\\w+', '', text)\n",
    "    text = text.strip()\n",
    "    return text.lower()\n",
    "\n",
    "  df['text'] = df['text'].apply(strip)\n",
    "  return df"
   ]
  },
  {
   "cell_type": "markdown",
   "metadata": {},
   "source": [
    "Removing stopwords for standardization"
   ]
  },
  {
   "cell_type": "code",
   "execution_count": 306,
   "metadata": {},
   "outputs": [],
   "source": [
    "def stopwords_remover(df: pd.DataFrame):\n",
    "  matcher = re.compile(r\"|\".join([fr\"\\b{word}\\b\" for word in stopwords.words(\"english\")]))\n",
    "  def remove_stopwords(text: str):\n",
    "    return \" \".join(matcher.sub('', text).split())\n",
    "\n",
    "  df['text'] = df['text'].apply(remove_stopwords)\n",
    "  return df"
   ]
  },
  {
   "cell_type": "markdown",
   "metadata": {},
   "source": [
    "Removing observations with null text values"
   ]
  },
  {
   "cell_type": "code",
   "execution_count": 307,
   "metadata": {},
   "outputs": [],
   "source": [
    "def null_content_observation_remover(df: pd.DataFrame):\n",
    "  df = df[~df['text'].isnull()]\n",
    "  df = df[~df['text'].isin([''])]\n",
    "  df = df.reset_index(drop=True)\n",
    "  return df"
   ]
  },
  {
   "cell_type": "markdown",
   "metadata": {},
   "source": [
    "Removing observations with less than 20 characters to improve model accuracy"
   ]
  },
  {
   "cell_type": "code",
   "execution_count": 308,
   "metadata": {},
   "outputs": [],
   "source": [
    "def n_characters_content_remover(df: pd.DataFrame, len_limit: int):\n",
    "  df = df[df['text'].apply(lambda text: len(text) > len_limit)]\n",
    "  df = df.reset_index(drop=True)\n",
    "  return df"
   ]
  },
  {
   "cell_type": "markdown",
   "metadata": {},
   "source": [
    "Reducing words to their base or lemmatizing to enhance the effectiveness of the model"
   ]
  },
  {
   "cell_type": "code",
   "execution_count": 309,
   "metadata": {},
   "outputs": [],
   "source": [
    "def lemmatizer(df: pd.DataFrame):\n",
    "  wordnet_lemmatizer = WordNetLemmatizer()\n",
    "  tokenizer = WordPunctTokenizer()\n",
    "\n",
    "  wordnet_pos_tag_map = {\n",
    "    \"J\": wordnet.ADJ,\n",
    "    \"N\": wordnet.NOUN,\n",
    "    \"V\": wordnet.VERB,\n",
    "    \"R\": wordnet.ADV,\n",
    "  }\n",
    "\n",
    "  def lemmatize(text: str):\n",
    "    tokens = tokenizer.tokenize(text)\n",
    "    pos_tags = pos_tag(tokens)\n",
    "\n",
    "    lemmatized_tokens = []\n",
    "    for token, tag in pos_tags:\n",
    "      wordnet_tag = wordnet_pos_tag_map.get(tag[0].upper())\n",
    "      if wordnet_tag is None:\n",
    "        lemmatized_tokens.append(token)\n",
    "      else:\n",
    "        lemmatized_tokens.append(wordnet_lemmatizer.lemmatize(token, wordnet_tag))\n",
    "\n",
    "    return ' '.join(lemmatized_tokens)\n",
    "\n",
    "  df['text'] = df['text'].apply(lemmatize)\n",
    "  return df\n",
    "    "
   ]
  },
  {
   "cell_type": "markdown",
   "metadata": {},
   "source": [
    "Running the pipeline and exporting to csv to skip reprocessing of the dataset"
   ]
  },
  {
   "cell_type": "code",
   "execution_count": 310,
   "metadata": {},
   "outputs": [],
   "source": [
    "if os.path.isfile('data/dataset_processed.csv'):\n",
    "  df = pd.read_csv('data/dataset_processed.csv')\n",
    "else:\n",
    "  df = (\n",
    "    df\n",
    "    .pipe(denoiser)\n",
    "    .pipe(stopwords_remover)\n",
    "    .pipe(null_content_observation_remover)\n",
    "    .pipe(n_characters_content_remover, 20)\n",
    "    .pipe(lemmatizer))\n",
    "\n",
    "  df.to_csv('data/dataset_processed.csv', index=False)"
   ]
  },
  {
   "cell_type": "code",
   "execution_count": 311,
   "metadata": {},
   "outputs": [
    {
     "name": "stdout",
     "output_type": "stream",
     "text": [
      "<class 'pandas.core.frame.DataFrame'>\n",
      "RangeIndex: 389684 entries, 0 to 389683\n",
      "Data columns (total 5 columns):\n",
      " #   Column                       Non-Null Count   Dtype \n",
      "---  ------                       --------------   ----- \n",
      " 0   text                         389684 non-null  object\n",
      " 1   emotion_label                389684 non-null  int64 \n",
      " 2   emotion_label_description    389684 non-null  object\n",
      " 3   sentiment_label              389684 non-null  int64 \n",
      " 4   sentiment_label_description  389684 non-null  object\n",
      "dtypes: int64(2), object(3)\n",
      "memory usage: 14.9+ MB\n"
     ]
    }
   ],
   "source": [
    "df.info()"
   ]
  },
  {
   "cell_type": "code",
   "execution_count": 312,
   "metadata": {},
   "outputs": [
    {
     "data": {
      "text/html": [
       "<div>\n",
       "<style scoped>\n",
       "    .dataframe tbody tr th:only-of-type {\n",
       "        vertical-align: middle;\n",
       "    }\n",
       "\n",
       "    .dataframe tbody tr th {\n",
       "        vertical-align: top;\n",
       "    }\n",
       "\n",
       "    .dataframe thead th {\n",
       "        text-align: right;\n",
       "    }\n",
       "</style>\n",
       "<table border=\"1\" class=\"dataframe\">\n",
       "  <thead>\n",
       "    <tr style=\"text-align: right;\">\n",
       "      <th></th>\n",
       "      <th>text</th>\n",
       "      <th>emotion_label</th>\n",
       "      <th>emotion_label_description</th>\n",
       "      <th>sentiment_label</th>\n",
       "      <th>sentiment_label_description</th>\n",
       "    </tr>\n",
       "  </thead>\n",
       "  <tbody>\n",
       "    <tr>\n",
       "      <th>0</th>\n",
       "      <td>feel really helpless heavy hearted</td>\n",
       "      <td>4</td>\n",
       "      <td>fear</td>\n",
       "      <td>0</td>\n",
       "      <td>negative</td>\n",
       "    </tr>\n",
       "    <tr>\n",
       "      <th>1</th>\n",
       "      <td>ive enjoy able slouch relax unwind frankly nee...</td>\n",
       "      <td>0</td>\n",
       "      <td>sadness</td>\n",
       "      <td>0</td>\n",
       "      <td>negative</td>\n",
       "    </tr>\n",
       "    <tr>\n",
       "      <th>2</th>\n",
       "      <td>give internship dmrg feeling distraught</td>\n",
       "      <td>4</td>\n",
       "      <td>fear</td>\n",
       "      <td>0</td>\n",
       "      <td>negative</td>\n",
       "    </tr>\n",
       "    <tr>\n",
       "      <th>3</th>\n",
       "      <td>kindergarten teacher thoroughly weary job take...</td>\n",
       "      <td>4</td>\n",
       "      <td>fear</td>\n",
       "      <td>0</td>\n",
       "      <td>negative</td>\n",
       "    </tr>\n",
       "    <tr>\n",
       "      <th>4</th>\n",
       "      <td>begin feel quite disheartened</td>\n",
       "      <td>0</td>\n",
       "      <td>sadness</td>\n",
       "      <td>0</td>\n",
       "      <td>negative</td>\n",
       "    </tr>\n",
       "  </tbody>\n",
       "</table>\n",
       "</div>"
      ],
      "text/plain": [
       "                                                text  emotion_label  \\\n",
       "0                 feel really helpless heavy hearted              4   \n",
       "1  ive enjoy able slouch relax unwind frankly nee...              0   \n",
       "2            give internship dmrg feeling distraught              4   \n",
       "3  kindergarten teacher thoroughly weary job take...              4   \n",
       "4                      begin feel quite disheartened              0   \n",
       "\n",
       "  emotion_label_description  sentiment_label sentiment_label_description  \n",
       "0                      fear                0                    negative  \n",
       "1                   sadness                0                    negative  \n",
       "2                      fear                0                    negative  \n",
       "3                      fear                0                    negative  \n",
       "4                   sadness                0                    negative  "
      ]
     },
     "execution_count": 312,
     "metadata": {},
     "output_type": "execute_result"
    }
   ],
   "source": [
    "df.head()"
   ]
  },
  {
   "cell_type": "markdown",
   "metadata": {},
   "source": [
    "### Modeling"
   ]
  },
  {
   "cell_type": "markdown",
   "metadata": {},
   "source": [
    "Initializing the primary variables"
   ]
  },
  {
   "cell_type": "code",
   "execution_count": 313,
   "metadata": {},
   "outputs": [],
   "source": [
    "x = np.array(df['text'])\n",
    "y_sentiment = np.array(df['sentiment_label'])\n",
    "y_emotion = np.array(df['emotion_label'])"
   ]
  },
  {
   "cell_type": "markdown",
   "metadata": {},
   "source": [
    "TF-IDF Vectorizer"
   ]
  },
  {
   "cell_type": "code",
   "execution_count": 314,
   "metadata": {},
   "outputs": [],
   "source": [
    "vectorizer = TfidfVectorizer(ngram_range=(1, 2)).fit(x)"
   ]
  },
  {
   "cell_type": "markdown",
   "metadata": {},
   "source": [
    "Chi-squared test based feature selector"
   ]
  },
  {
   "cell_type": "code",
   "execution_count": 315,
   "metadata": {},
   "outputs": [],
   "source": [
    "selector_sentiment = SelectKBest(chi2, k=4500)\n",
    "selector_emotion = SelectKBest(chi2, k=4500)"
   ]
  },
  {
   "cell_type": "markdown",
   "metadata": {},
   "source": [
    "Defining a class to streamline the transformers"
   ]
  },
  {
   "cell_type": "code",
   "execution_count": 316,
   "metadata": {},
   "outputs": [],
   "source": [
    "class Transformer:\n",
    "  def __init__(self, x):\n",
    "    self.x = x\n",
    "\n",
    "  def vectorizer(self):\n",
    "    self.x = vectorizer.transform(self.x)\n",
    "    return self\n",
    "\n",
    "  def selector(self, selector):\n",
    "    self.x = selector.transform(self.x)\n",
    "    return self\n",
    "\n",
    "  def get_value(self):\n",
    "    return self.x"
   ]
  },
  {
   "cell_type": "markdown",
   "metadata": {},
   "source": [
    "Splitting the training and testing data"
   ]
  },
  {
   "cell_type": "code",
   "execution_count": 317,
   "metadata": {},
   "outputs": [],
   "source": [
    "x_sentiment_train, x_sentiment_test, y_sentiment_train, y_sentiment_test = train_test_split(\n",
    "  x, y_sentiment,\n",
    "  test_size=0.25,\n",
    "  random_state=42,\n",
    "  stratify=y_sentiment, )\n",
    "\n",
    "selector_sentiment.fit(\n",
    "  vectorizer.transform(x_sentiment_train),\n",
    "  y_sentiment_train, )\n",
    "\n",
    "x_sentiment_train_selected = (\n",
    "  Transformer(x_sentiment_train)\n",
    "  .vectorizer()\n",
    "  .selector(selector_sentiment)\n",
    "  .get_value())\n",
    "\n",
    "x_sentiment_test_selected = (\n",
    "  Transformer(x_sentiment_test)\n",
    "  .vectorizer()\n",
    "  .selector(selector_sentiment)\n",
    "  .get_value())"
   ]
  },
  {
   "cell_type": "code",
   "execution_count": 318,
   "metadata": {},
   "outputs": [],
   "source": [
    "x_emotion_train, x_emotion_test, y_emotion_train, y_emotion_test = train_test_split(\n",
    "  x, y_emotion,\n",
    "  test_size=0.25,\n",
    "  random_state=42,\n",
    "  stratify=y_emotion, )\n",
    "\n",
    "selector_emotion.fit(\n",
    "  vectorizer.transform(x_emotion_train),\n",
    "  y_emotion_train, )\n",
    "\n",
    "x_emotion_train_selected = (\n",
    "  Transformer(x_emotion_train)\n",
    "  .vectorizer()\n",
    "  .selector(selector_emotion)\n",
    "  .get_value())\n",
    "\n",
    "x_emotion_test_selected = (\n",
    "  Transformer(x_emotion_test)\n",
    "  .vectorizer()\n",
    "  .selector(selector_emotion)\n",
    "  .get_value())\n"
   ]
  },
  {
   "cell_type": "markdown",
   "metadata": {},
   "source": [
    "#### Training the sentiment classifier"
   ]
  },
  {
   "cell_type": "code",
   "execution_count": 319,
   "metadata": {},
   "outputs": [],
   "source": [
    "model_sentiment = MultinomialNB()"
   ]
  },
  {
   "cell_type": "markdown",
   "metadata": {},
   "source": [
    "Grid search and cross validation hyperparameter tuning to select the best parameters and yield better accuracy"
   ]
  },
  {
   "cell_type": "code",
   "execution_count": 320,
   "metadata": {},
   "outputs": [
    {
     "data": {
      "text/plain": [
       "{'alpha': 0.02}"
      ]
     },
     "execution_count": 320,
     "metadata": {},
     "output_type": "execute_result"
    }
   ],
   "source": [
    "gridsearch_model_sentiment = GridSearchCV(\n",
    "  estimator=model_sentiment,\n",
    "  param_grid={'alpha': [0.02, 0.05, 0.1, 0.2, 0.3, 0.4, 0.8, 0.9, 1.0, 1.1, 1.2]},\n",
    "  cv=5,\n",
    "  scoring='accuracy', )\n",
    "\n",
    "gridsearch_model_sentiment.fit(\n",
    "  x_sentiment_train_selected, \n",
    "  y_sentiment_train, )\n",
    "\n",
    "gridsearch_model_sentiment.best_params_"
   ]
  },
  {
   "cell_type": "code",
   "execution_count": 321,
   "metadata": {},
   "outputs": [
    {
     "data": {
      "text/plain": [
       "np.float64(0.9412173222535307)"
      ]
     },
     "execution_count": 321,
     "metadata": {},
     "output_type": "execute_result"
    }
   ],
   "source": [
    "gridsearch_model_sentiment.best_score_"
   ]
  },
  {
   "cell_type": "code",
   "execution_count": 322,
   "metadata": {},
   "outputs": [],
   "source": [
    "model_sentiment = gridsearch_model_sentiment.best_estimator_"
   ]
  },
  {
   "cell_type": "code",
   "execution_count": 323,
   "metadata": {},
   "outputs": [
    {
     "data": {
      "text/html": [
       "<div>\n",
       "<style scoped>\n",
       "    .dataframe tbody tr th:only-of-type {\n",
       "        vertical-align: middle;\n",
       "    }\n",
       "\n",
       "    .dataframe tbody tr th {\n",
       "        vertical-align: top;\n",
       "    }\n",
       "\n",
       "    .dataframe thead th {\n",
       "        text-align: right;\n",
       "    }\n",
       "</style>\n",
       "<table border=\"1\" class=\"dataframe\">\n",
       "  <thead>\n",
       "    <tr style=\"text-align: right;\">\n",
       "      <th></th>\n",
       "      <th>actual_value</th>\n",
       "      <th>predicted_value</th>\n",
       "      <th>classification</th>\n",
       "    </tr>\n",
       "  </thead>\n",
       "  <tbody>\n",
       "    <tr>\n",
       "      <th>0</th>\n",
       "      <td>0</td>\n",
       "      <td>0</td>\n",
       "      <td>true negative</td>\n",
       "    </tr>\n",
       "    <tr>\n",
       "      <th>1</th>\n",
       "      <td>0</td>\n",
       "      <td>0</td>\n",
       "      <td>true negative</td>\n",
       "    </tr>\n",
       "    <tr>\n",
       "      <th>2</th>\n",
       "      <td>0</td>\n",
       "      <td>0</td>\n",
       "      <td>true negative</td>\n",
       "    </tr>\n",
       "    <tr>\n",
       "      <th>3</th>\n",
       "      <td>0</td>\n",
       "      <td>0</td>\n",
       "      <td>true negative</td>\n",
       "    </tr>\n",
       "    <tr>\n",
       "      <th>4</th>\n",
       "      <td>1</td>\n",
       "      <td>1</td>\n",
       "      <td>true positive</td>\n",
       "    </tr>\n",
       "  </tbody>\n",
       "</table>\n",
       "</div>"
      ],
      "text/plain": [
       "   actual_value  predicted_value classification\n",
       "0             0                0  true negative\n",
       "1             0                0  true negative\n",
       "2             0                0  true negative\n",
       "3             0                0  true negative\n",
       "4             1                1  true positive"
      ]
     },
     "execution_count": 323,
     "metadata": {},
     "output_type": "execute_result"
    }
   ],
   "source": [
    "df_sentiment_results = pd.DataFrame({\n",
    "  'actual_value': y_sentiment_test,\n",
    "  'predicted_value': model_sentiment.predict(x_sentiment_test_selected)\n",
    "})\n",
    "\n",
    "df_sentiment_results['classification'] = df_sentiment_results.apply(\n",
    "  lambda x:\n",
    "    'true positive' if x['actual_value'] == 1 and x['predicted_value'] == 1 else\n",
    "    'true negative' if x['actual_value'] == 0 and x['predicted_value'] == 0 else\n",
    "    'true neutral' if x['actual_value'] == 2 and x['predicted_value'] == 2 else\n",
    "    'false positive' if x['actual_value'] != 1 and x['predicted_value'] == 1 else\n",
    "    'false negative' if x['actual_value'] != 0 and x['predicted_value'] == 0 else\n",
    "    'false neutral' if x['actual_value'] != 2 and x['predicted_value'] == 2 else\n",
    "    None\n",
    "  , axis=1\n",
    ")\n",
    "\n",
    "df_sentiment_results.head()"
   ]
  },
  {
   "cell_type": "code",
   "execution_count": 324,
   "metadata": {},
   "outputs": [
    {
     "data": {
      "text/plain": [
       "classification\n",
       "true negative     52004\n",
       "true positive     38211\n",
       "false negative     4831\n",
       "true neutral       1136\n",
       "false positive     1071\n",
       "false neutral       168\n",
       "Name: count, dtype: int64"
      ]
     },
     "execution_count": 324,
     "metadata": {},
     "output_type": "execute_result"
    }
   ],
   "source": [
    "df_sentiment_results['classification'].value_counts()"
   ]
  },
  {
   "cell_type": "code",
   "execution_count": 325,
   "metadata": {},
   "outputs": [
    {
     "name": "stdout",
     "output_type": "stream",
     "text": [
      "              precision    recall  f1-score   support\n",
      "\n",
      "           0       0.91      0.99      0.95     52556\n",
      "           1       0.97      0.92      0.95     41329\n",
      "           2       0.87      0.32      0.47      3536\n",
      "\n",
      "    accuracy                           0.94     97421\n",
      "   macro avg       0.92      0.75      0.79     97421\n",
      "weighted avg       0.94      0.94      0.93     97421\n",
      "\n"
     ]
    }
   ],
   "source": [
    "print(classification_report(df_sentiment_results['actual_value'], df_sentiment_results['predicted_value']))"
   ]
  },
  {
   "cell_type": "code",
   "execution_count": 326,
   "metadata": {},
   "outputs": [
    {
     "data": {
      "text/plain": [
       "array([1, 1, 1, 1, 0, 1, 1, 1, 0, 0])"
      ]
     },
     "execution_count": 326,
     "metadata": {},
     "output_type": "execute_result"
    }
   ],
   "source": [
    "response_list = [\n",
    "  \"I believe online anonymity encourages more honest and open communication, allowing users to express their true opinions\",\n",
    "  \"In my view, online anonymity can lead to a significant increase in negative behaviors, such as trolling and cyberbullying, because users feel shielded from accountability.\",\n",
    "  \"I think anonymity provides a double-edged sword; while it allows for free expression, it also creates an environment where people may engage in harmful or deceitful actions.\",\n",
    "  \"Online anonymity empowers marginalized voices to speak out, but it also makes it difficult to identify and address harmful content effectively.\",\n",
    "  \"I see online anonymity as a critical factor in fostering diverse discussions, but it also contributes to the spread of misinformation, as sources cannot always be verified.\",\n",
    "  \"I think that online anonymity can lead to more genuine interactions in certain communities, but it may also reduce the quality of discourse by enabling users to avoid responsibility for their words.\",\n",
    "  \"Anonymity online is essential for privacy, but it can also encourage users to engage in behavior they might avoid if their identity were known.\",\n",
    "  \"In my opinion, the impact of online anonymity is largely context-dependent; it can promote both positive and negative behaviors depending on the platform and community norms.\",\n",
    "  \"I believe online anonymity amplifies both the best and worst aspects of human behavior, providing a space for both creativity and cruelty.\",\n",
    "  \"I think online anonymity allows people to connect more authentically, but it can also lead to a lack of trust and credibility in online interactions.\"\n",
    "]\n",
    "\n",
    "test = (pd.DataFrame({'text': response_list})\n",
    "  .pipe(denoiser)\n",
    "  .pipe(stopwords_remover)\n",
    "  .pipe(null_content_observation_remover)\n",
    "  .pipe(lemmatizer))\n",
    "\n",
    "model_sentiment.predict(\n",
    "  Transformer(test['text'])\n",
    "  .vectorizer()\n",
    "  .selector(selector_sentiment)\n",
    "  .get_value())\n"
   ]
  },
  {
   "cell_type": "markdown",
   "metadata": {},
   "source": [
    "#### Training the emotion classifier"
   ]
  },
  {
   "cell_type": "code",
   "execution_count": 327,
   "metadata": {},
   "outputs": [],
   "source": [
    "model_emotion = MultinomialNB()"
   ]
  },
  {
   "cell_type": "markdown",
   "metadata": {},
   "source": [
    "Grid search and cross validation hyperparameter tuning to select the best parameters and yield better accuracy"
   ]
  },
  {
   "cell_type": "code",
   "execution_count": 328,
   "metadata": {},
   "outputs": [
    {
     "data": {
      "text/plain": [
       "{'alpha': 0.02}"
      ]
     },
     "execution_count": 328,
     "metadata": {},
     "output_type": "execute_result"
    }
   ],
   "source": [
    "gridsearch_model_emotion = GridSearchCV(\n",
    "  estimator=model_emotion,\n",
    "  param_grid={'alpha': [0.02, 0.05, 0.1, 0.2, 0.3, 0.4, 0.8, 0.9, 1.0, 1.1, 1.2]},\n",
    "  cv=5,\n",
    "  scoring='accuracy', )\n",
    "\n",
    "gridsearch_model_emotion.fit(\n",
    "  x_emotion_train_selected, \n",
    "  y_emotion_train, )\n",
    "\n",
    "gridsearch_model_emotion.best_params_"
   ]
  },
  {
   "cell_type": "code",
   "execution_count": 329,
   "metadata": {},
   "outputs": [
    {
     "data": {
      "text/plain": [
       "np.float64(0.8467613146065893)"
      ]
     },
     "execution_count": 329,
     "metadata": {},
     "output_type": "execute_result"
    }
   ],
   "source": [
    "gridsearch_model_emotion.best_score_"
   ]
  },
  {
   "cell_type": "code",
   "execution_count": 330,
   "metadata": {},
   "outputs": [],
   "source": [
    "model_emotion = gridsearch_model_emotion.best_estimator_"
   ]
  },
  {
   "cell_type": "code",
   "execution_count": 331,
   "metadata": {},
   "outputs": [
    {
     "data": {
      "text/html": [
       "<div>\n",
       "<style scoped>\n",
       "    .dataframe tbody tr th:only-of-type {\n",
       "        vertical-align: middle;\n",
       "    }\n",
       "\n",
       "    .dataframe tbody tr th {\n",
       "        vertical-align: top;\n",
       "    }\n",
       "\n",
       "    .dataframe thead th {\n",
       "        text-align: right;\n",
       "    }\n",
       "</style>\n",
       "<table border=\"1\" class=\"dataframe\">\n",
       "  <thead>\n",
       "    <tr style=\"text-align: right;\">\n",
       "      <th></th>\n",
       "      <th>actual_value</th>\n",
       "      <th>predicted_value</th>\n",
       "      <th>classification</th>\n",
       "    </tr>\n",
       "  </thead>\n",
       "  <tbody>\n",
       "    <tr>\n",
       "      <th>0</th>\n",
       "      <td>0</td>\n",
       "      <td>0</td>\n",
       "      <td>true negative</td>\n",
       "    </tr>\n",
       "    <tr>\n",
       "      <th>1</th>\n",
       "      <td>0</td>\n",
       "      <td>0</td>\n",
       "      <td>true negative</td>\n",
       "    </tr>\n",
       "    <tr>\n",
       "      <th>2</th>\n",
       "      <td>0</td>\n",
       "      <td>0</td>\n",
       "      <td>true negative</td>\n",
       "    </tr>\n",
       "    <tr>\n",
       "      <th>3</th>\n",
       "      <td>0</td>\n",
       "      <td>0</td>\n",
       "      <td>true negative</td>\n",
       "    </tr>\n",
       "    <tr>\n",
       "      <th>4</th>\n",
       "      <td>1</td>\n",
       "      <td>1</td>\n",
       "      <td>true positive</td>\n",
       "    </tr>\n",
       "  </tbody>\n",
       "</table>\n",
       "</div>"
      ],
      "text/plain": [
       "   actual_value  predicted_value classification\n",
       "0             0                0  true negative\n",
       "1             0                0  true negative\n",
       "2             0                0  true negative\n",
       "3             0                0  true negative\n",
       "4             1                1  true positive"
      ]
     },
     "execution_count": 331,
     "metadata": {},
     "output_type": "execute_result"
    }
   ],
   "source": [
    "df_emotion_results = pd.DataFrame({\n",
    "  'actual_value': y_emotion_test,\n",
    "  'predicted_value': model_emotion.predict(x_emotion_test_selected)\n",
    "})\n",
    "\n",
    "df_emotion_results['classification'] = df_emotion_results.apply(\n",
    "  lambda x:\n",
    "    'true sadness' if x['actual_value'] == 0 and x['predicted_value'] == 0 else\n",
    "    'true joy' if x['actual_value'] == 1 and x['predicted_value'] == 1 else\n",
    "    'true love' if x['actual_value'] == 2 and x['predicted_value'] == 2 else\n",
    "    'true anger' if x['actual_value'] == 3 and x['predicted_value'] == 3 else\n",
    "    'true fear' if x['actual_value'] == 4 and x['predicted_value'] == 4 else\n",
    "    'true surprised' if x['actual_value'] == 5 and x['predicted_value'] == 5 else\n",
    "    'false sadness' if x['actual_value'] != 0 and x['predicted_value'] == 0 else\n",
    "    'false joy' if x['actual_value'] != 1 and x['predicted_value'] == 1 else\n",
    "    'false love' if x['actual_value'] != 2 and x['predicted_value'] == 2 else\n",
    "    'false anger' if x['actual_value'] != 3 and x['predicted_value'] == 3 else\n",
    "    'false fear' if x['actual_value'] != 4 and x['predicted_value'] == 4 else\n",
    "    'false surprised' if x['actual_value'] != 5 and x['predicted_value'] == 5 else\n",
    "    None\n",
    "  , axis=1\n",
    ")\n",
    "\n",
    "df_sentiment_results.head()"
   ]
  },
  {
   "cell_type": "code",
   "execution_count": 332,
   "metadata": {},
   "outputs": [
    {
     "data": {
      "text/plain": [
       "classification\n",
       "true joy           32607\n",
       "true sadness       26961\n",
       "false joy          10000\n",
       "true anger          9788\n",
       "true fear           8035\n",
       "false sadness       3719\n",
       "true love           3300\n",
       "true surprised      1337\n",
       "false fear           910\n",
       "false anger          530\n",
       "false surprised      127\n",
       "false love           107\n",
       "Name: count, dtype: int64"
      ]
     },
     "execution_count": 332,
     "metadata": {},
     "output_type": "execute_result"
    }
   ],
   "source": [
    "df_emotion_results['classification'].value_counts()"
   ]
  },
  {
   "cell_type": "code",
   "execution_count": 333,
   "metadata": {},
   "outputs": [
    {
     "name": "stdout",
     "output_type": "stream",
     "text": [
      "              precision    recall  f1-score   support\n",
      "\n",
      "           0       0.88      0.96      0.92     28023\n",
      "           1       0.77      0.99      0.86     33086\n",
      "           2       0.97      0.40      0.57      8243\n",
      "           3       0.95      0.74      0.83     13311\n",
      "           4       0.90      0.72      0.80     11222\n",
      "           5       0.91      0.38      0.53      3536\n",
      "\n",
      "    accuracy                           0.84     97421\n",
      "   macro avg       0.90      0.70      0.75     97421\n",
      "weighted avg       0.86      0.84      0.83     97421\n",
      "\n"
     ]
    }
   ],
   "source": [
    "print(classification_report(df_emotion_results['actual_value'], df_emotion_results['predicted_value']))"
   ]
  },
  {
   "cell_type": "code",
   "execution_count": 334,
   "metadata": {},
   "outputs": [
    {
     "data": {
      "text/plain": [
       "array([1, 1, 1, 1, 1, 1, 1, 1, 0, 1])"
      ]
     },
     "execution_count": 334,
     "metadata": {},
     "output_type": "execute_result"
    }
   ],
   "source": [
    "response_list = [\n",
    "  \"I believe online anonymity encourages more honest and open communication, allowing users to express their true opinions\",\n",
    "  \"In my view, online anonymity can lead to a significant increase in negative behaviors, such as trolling and cyberbullying, because users feel shielded from accountability.\",\n",
    "  \"I think anonymity provides a double-edged sword; while it allows for free expression, it also creates an environment where people may engage in harmful or deceitful actions.\",\n",
    "  \"Online anonymity empowers marginalized voices to speak out, but it also makes it difficult to identify and address harmful content effectively.\",\n",
    "  \"I see online anonymity as a critical factor in fostering diverse discussions, but it also contributes to the spread of misinformation, as sources cannot always be verified.\",\n",
    "  \"I think that online anonymity can lead to more genuine interactions in certain communities, but it may also reduce the quality of discourse by enabling users to avoid responsibility for their words.\",\n",
    "  \"Anonymity online is essential for privacy, but it can also encourage users to engage in behavior they might avoid if their identity were known.\",\n",
    "  \"In my opinion, the impact of online anonymity is largely context-dependent; it can promote both positive and negative behaviors depending on the platform and community norms.\",\n",
    "  \"I believe online anonymity amplifies both the best and worst aspects of human behavior, providing a space for both creativity and cruelty.\",\n",
    "  \"I think online anonymity allows people to connect more authentically, but it can also lead to a lack of trust and credibility in online interactions.\"\n",
    "]\n",
    "\n",
    "test = (pd.DataFrame({'text': response_list})\n",
    "  .pipe(denoiser)\n",
    "  .pipe(stopwords_remover)\n",
    "  .pipe(null_content_observation_remover)\n",
    "  .pipe(lemmatizer))\n",
    "\n",
    "model_emotion.predict(\n",
    "  Transformer(test['text'])\n",
    "  .vectorizer()\n",
    "  .selector(selector_emotion)\n",
    "  .get_value())\n"
   ]
  },
  {
   "cell_type": "code",
   "execution_count": null,
   "metadata": {},
   "outputs": [],
   "source": []
  }
 ],
 "metadata": {
  "kernelspec": {
   "display_name": ".venv",
   "language": "python",
   "name": "python3"
  },
  "language_info": {
   "codemirror_mode": {
    "name": "ipython",
    "version": 3
   },
   "file_extension": ".py",
   "mimetype": "text/x-python",
   "name": "python",
   "nbconvert_exporter": "python",
   "pygments_lexer": "ipython3",
   "version": "3.11.5"
  }
 },
 "nbformat": 4,
 "nbformat_minor": 2
}
